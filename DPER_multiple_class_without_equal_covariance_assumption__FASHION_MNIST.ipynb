{
  "nbformat": 4,
  "nbformat_minor": 0,
  "metadata": {
    "colab": {
      "name": "DPER_multiple_class_without_equal_covariance_assumption__FASHION_MNIST.ipynb",
      "provenance": [],
      "collapsed_sections": [],
      "toc_visible": true,
      "include_colab_link": true
    },
    "kernelspec": {
      "display_name": "Python 3",
      "language": "python",
      "name": "python3"
    },
    "language_info": {
      "codemirror_mode": {
        "name": "ipython",
        "version": 3
      },
      "file_extension": ".py",
      "mimetype": "text/x-python",
      "name": "python",
      "nbconvert_exporter": "python",
      "pygments_lexer": "ipython3",
      "version": "3.8.8"
    },
    "widgets": {
      "application/vnd.jupyter.widget-state+json": {
        "f417ec68aeba499a890880cef717a19b": {
          "model_module": "@jupyter-widgets/controls",
          "model_name": "HBoxModel",
          "state": {
            "_dom_classes": [],
            "_model_module": "@jupyter-widgets/controls",
            "_model_module_version": "1.5.0",
            "_model_name": "HBoxModel",
            "_view_count": null,
            "_view_module": "@jupyter-widgets/controls",
            "_view_module_version": "1.5.0",
            "_view_name": "HBoxView",
            "box_style": "",
            "children": [
              "IPY_MODEL_53bfd0cacc8f40c6a588f8e37d009395",
              "IPY_MODEL_d9cf3b771b87429f89ec21b098208ed1"
            ],
            "layout": "IPY_MODEL_2a29b7b5c68b441e9c2e12c4c862e3dd"
          }
        },
        "2a29b7b5c68b441e9c2e12c4c862e3dd": {
          "model_module": "@jupyter-widgets/base",
          "model_name": "LayoutModel",
          "state": {
            "_model_module": "@jupyter-widgets/base",
            "_model_module_version": "1.2.0",
            "_model_name": "LayoutModel",
            "_view_count": null,
            "_view_module": "@jupyter-widgets/base",
            "_view_module_version": "1.2.0",
            "_view_name": "LayoutView",
            "align_content": null,
            "align_items": null,
            "align_self": null,
            "border": null,
            "bottom": null,
            "display": null,
            "flex": null,
            "flex_flow": null,
            "grid_area": null,
            "grid_auto_columns": null,
            "grid_auto_flow": null,
            "grid_auto_rows": null,
            "grid_column": null,
            "grid_gap": null,
            "grid_row": null,
            "grid_template_areas": null,
            "grid_template_columns": null,
            "grid_template_rows": null,
            "height": null,
            "justify_content": null,
            "justify_items": null,
            "left": null,
            "margin": null,
            "max_height": null,
            "max_width": null,
            "min_height": null,
            "min_width": null,
            "object_fit": null,
            "object_position": null,
            "order": null,
            "overflow": null,
            "overflow_x": null,
            "overflow_y": null,
            "padding": null,
            "right": null,
            "top": null,
            "visibility": null,
            "width": null
          }
        },
        "53bfd0cacc8f40c6a588f8e37d009395": {
          "model_module": "@jupyter-widgets/controls",
          "model_name": "FloatProgressModel",
          "state": {
            "_dom_classes": [],
            "_model_module": "@jupyter-widgets/controls",
            "_model_module_version": "1.5.0",
            "_model_name": "FloatProgressModel",
            "_view_count": null,
            "_view_module": "@jupyter-widgets/controls",
            "_view_module_version": "1.5.0",
            "_view_name": "ProgressView",
            "bar_style": "success",
            "description": "Dl Completed...: 100%",
            "description_tooltip": null,
            "layout": "IPY_MODEL_6e1159299c7f49dbb6f59cd60c939df7",
            "max": 4,
            "min": 0,
            "orientation": "horizontal",
            "style": "IPY_MODEL_cb313dda70a545a4938e021aea26acf4",
            "value": 4
          }
        },
        "d9cf3b771b87429f89ec21b098208ed1": {
          "model_module": "@jupyter-widgets/controls",
          "model_name": "HTMLModel",
          "state": {
            "_dom_classes": [],
            "_model_module": "@jupyter-widgets/controls",
            "_model_module_version": "1.5.0",
            "_model_name": "HTMLModel",
            "_view_count": null,
            "_view_module": "@jupyter-widgets/controls",
            "_view_module_version": "1.5.0",
            "_view_name": "HTMLView",
            "description": "",
            "description_tooltip": null,
            "layout": "IPY_MODEL_1fa7b9c393c14314973469d034b81e4c",
            "placeholder": "​",
            "style": "IPY_MODEL_351c648b6419442b97e9158ea6f07c31",
            "value": " 4/4 [00:00&lt;00:00,  6.35 file/s]"
          }
        },
        "cb313dda70a545a4938e021aea26acf4": {
          "model_module": "@jupyter-widgets/controls",
          "model_name": "ProgressStyleModel",
          "state": {
            "_model_module": "@jupyter-widgets/controls",
            "_model_module_version": "1.5.0",
            "_model_name": "ProgressStyleModel",
            "_view_count": null,
            "_view_module": "@jupyter-widgets/base",
            "_view_module_version": "1.2.0",
            "_view_name": "StyleView",
            "bar_color": null,
            "description_width": "initial"
          }
        },
        "6e1159299c7f49dbb6f59cd60c939df7": {
          "model_module": "@jupyter-widgets/base",
          "model_name": "LayoutModel",
          "state": {
            "_model_module": "@jupyter-widgets/base",
            "_model_module_version": "1.2.0",
            "_model_name": "LayoutModel",
            "_view_count": null,
            "_view_module": "@jupyter-widgets/base",
            "_view_module_version": "1.2.0",
            "_view_name": "LayoutView",
            "align_content": null,
            "align_items": null,
            "align_self": null,
            "border": null,
            "bottom": null,
            "display": null,
            "flex": null,
            "flex_flow": null,
            "grid_area": null,
            "grid_auto_columns": null,
            "grid_auto_flow": null,
            "grid_auto_rows": null,
            "grid_column": null,
            "grid_gap": null,
            "grid_row": null,
            "grid_template_areas": null,
            "grid_template_columns": null,
            "grid_template_rows": null,
            "height": null,
            "justify_content": null,
            "justify_items": null,
            "left": null,
            "margin": null,
            "max_height": null,
            "max_width": null,
            "min_height": null,
            "min_width": null,
            "object_fit": null,
            "object_position": null,
            "order": null,
            "overflow": null,
            "overflow_x": null,
            "overflow_y": null,
            "padding": null,
            "right": null,
            "top": null,
            "visibility": null,
            "width": null
          }
        },
        "351c648b6419442b97e9158ea6f07c31": {
          "model_module": "@jupyter-widgets/controls",
          "model_name": "DescriptionStyleModel",
          "state": {
            "_model_module": "@jupyter-widgets/controls",
            "_model_module_version": "1.5.0",
            "_model_name": "DescriptionStyleModel",
            "_view_count": null,
            "_view_module": "@jupyter-widgets/base",
            "_view_module_version": "1.2.0",
            "_view_name": "StyleView",
            "description_width": ""
          }
        },
        "1fa7b9c393c14314973469d034b81e4c": {
          "model_module": "@jupyter-widgets/base",
          "model_name": "LayoutModel",
          "state": {
            "_model_module": "@jupyter-widgets/base",
            "_model_module_version": "1.2.0",
            "_model_name": "LayoutModel",
            "_view_count": null,
            "_view_module": "@jupyter-widgets/base",
            "_view_module_version": "1.2.0",
            "_view_name": "LayoutView",
            "align_content": null,
            "align_items": null,
            "align_self": null,
            "border": null,
            "bottom": null,
            "display": null,
            "flex": null,
            "flex_flow": null,
            "grid_area": null,
            "grid_auto_columns": null,
            "grid_auto_flow": null,
            "grid_auto_rows": null,
            "grid_column": null,
            "grid_gap": null,
            "grid_row": null,
            "grid_template_areas": null,
            "grid_template_columns": null,
            "grid_template_rows": null,
            "height": null,
            "justify_content": null,
            "justify_items": null,
            "left": null,
            "margin": null,
            "max_height": null,
            "max_width": null,
            "min_height": null,
            "min_width": null,
            "object_fit": null,
            "object_position": null,
            "order": null,
            "overflow": null,
            "overflow_x": null,
            "overflow_y": null,
            "padding": null,
            "right": null,
            "top": null,
            "visibility": null,
            "width": null
          }
        }
      }
    }
  },
  "cells": [
    {
      "cell_type": "markdown",
      "metadata": {
        "id": "view-in-github",
        "colab_type": "text"
      },
      "source": [
        "<a href=\"https://colab.research.google.com/github/thunguyen177/DPER/blob/main/DPER_multiple_class_without_equal_covariance_assumption__FASHION_MNIST.ipynb\" target=\"_parent\"><img src=\"https://colab.research.google.com/assets/colab-badge.svg\" alt=\"Open In Colab\"/></a>"
      ]
    },
    {
      "cell_type": "markdown",
      "metadata": {
        "id": "01Q1wGI3uIdg"
      },
      "source": [
        "## libraries and function "
      ]
    },
    {
      "cell_type": "code",
      "metadata": {
        "colab": {
          "base_uri": "https://localhost:8080/"
        },
        "id": "iEdO9dJPION8",
        "outputId": "d263f3b9-c02b-43b5-9ebe-b6b7a0f96958"
      },
      "source": [
        "!pip install impyute\n",
        "from sklearn import datasets\n",
        "from sklearn.preprocessing import LabelEncoder, StandardScaler\n",
        "from sklearn.discriminant_analysis import LinearDiscriminantAnalysis as skLDA\n",
        "from sklearn.experimental import enable_iterative_imputer\n",
        "from sklearn.impute import IterativeImputer\n",
        "from scipy import stats\n",
        "import numpy as np\n",
        "import impyute as impy\n",
        "from fancyimpute import IterativeSVD, SoftImpute, NuclearNormMinimization\n",
        "import pandas as pd\n",
        "import time \n",
        "from missingpy import MissForest"
      ],
      "execution_count": null,
      "outputs": [
        {
          "output_type": "stream",
          "text": [
            "\u001b[33mWARNING: Value for scheme.headers does not match. Please report this to <https://github.com/pypa/pip/issues/9617>\n",
            "distutils: /home/thu/.conda/envs/tf2/include/python3.8/UNKNOWN\n",
            "sysconfig: /home/thu/.conda/envs/tf2/include/python3.8\u001b[0m\n",
            "\u001b[33mWARNING: Additional context:\n",
            "user = False\n",
            "home = None\n",
            "root = None\n",
            "prefix = None\u001b[0m\n",
            "Requirement already satisfied: impyute in /home/thu/.local/lib/python3.8/site-packages (0.0.8)\n",
            "Requirement already satisfied: scikit-learn in /home/thu/.conda/envs/tf2/lib/python3.8/site-packages (from impyute) (0.22.2.post1)\n",
            "Requirement already satisfied: numpy in /home/thu/.conda/envs/tf2/lib/python3.8/site-packages (from impyute) (1.19.5)\n",
            "Requirement already satisfied: scipy in /home/thu/.conda/envs/tf2/lib/python3.8/site-packages (from impyute) (1.6.2)\n",
            "Requirement already satisfied: joblib>=0.11 in /home/thu/.conda/envs/tf2/lib/python3.8/site-packages (from scikit-learn->impyute) (1.0.1)\n",
            "\u001b[33mWARNING: Value for scheme.headers does not match. Please report this to <https://github.com/pypa/pip/issues/9617>\n",
            "distutils: /home/thu/.conda/envs/tf2/include/python3.8/UNKNOWN\n",
            "sysconfig: /home/thu/.conda/envs/tf2/include/python3.8\u001b[0m\n",
            "\u001b[33mWARNING: Additional context:\n",
            "user = False\n",
            "home = None\n",
            "root = None\n",
            "prefix = None\u001b[0m\n",
            "\u001b[33mWARNING: You are using pip version 21.1; however, version 21.1.1 is available.\n",
            "You should consider upgrading via the '/home/thu/.conda/envs/tf2/bin/python -m pip install --upgrade pip' command.\u001b[0m\n"
          ],
          "name": "stdout"
        },
        {
          "output_type": "stream",
          "text": [
            "/home/thu/.conda/envs/tf2/lib/python3.8/site-packages/sklearn/utils/deprecation.py:144: FutureWarning: The sklearn.neighbors.base module is  deprecated in version 0.22 and will be removed in version 0.24. The corresponding classes / functions should instead be imported from sklearn.neighbors. Anything that cannot be imported from sklearn.neighbors is now part of the private API.\n",
            "  warnings.warn(message, FutureWarning)\n"
          ],
          "name": "stderr"
        }
      ]
    },
    {
      "cell_type": "markdown",
      "metadata": {
        "id": "U6WJ1RH8pyXC"
      },
      "source": [
        "### MLE estimation function "
      ]
    },
    {
      "cell_type": "code",
      "metadata": {
        "id": "xiZ7C5gU2ywr"
      },
      "source": [
        "def diag_term(X,i):\n",
        "  arr0 = X[:,i].flatten()\n",
        "  arr = arr0[~np.isnan(arr0)]\n",
        "  return np.var(arr)\n",
        "\n",
        "def musMLE(X,y,G):\n",
        "    n,p = X.shape[0], X.shape[1]\n",
        "    f = lambda g: np.nanmean(X[y==g,:],axis=0)\n",
        "    musMLE = np.array([f(g) for g in range(G)])    \n",
        "    return musMLE.T\n",
        "\n",
        "def Smle(X,y,musMLE,g):\n",
        "    '''\n",
        "    function to compute the covariance matrix for the g-th class\n",
        "    X: input, should be a numpy array\n",
        "    y: label\n",
        "    G: number of classes\n",
        "    g: class index\n",
        "    output:\n",
        "    - mus: each row is a class mean\n",
        "    - S: common covariance matrix of class 1,2,..., G \n",
        "    '''\n",
        "    epsilon = 1e-5 # define epsilon to put r down to 0 if r < epsilon\n",
        "    Xg, yg = X[y==g,:], y[y==g]\n",
        "    n,p = Xg.shape[0], Xg.shape[1] \n",
        " \n",
        "    S = np.diag([diag_term(Xg,i) for i in range(p)]) \n",
        "\n",
        "    for i in range(p):      \n",
        "      for j in range(i):\n",
        "        if ((S[i,i] == 0.) | (S[j,j] == 0.)):\n",
        "          S[i,j] = S[j,i] = 0.\n",
        "          continue\n",
        "\n",
        "        mat = Xg[:,[i,j]]\n",
        "\n",
        "        # drop rows with NA\n",
        "        idx = ~np.isnan(mat).any(axis=1)\n",
        "        mat, y_arr = mat[idx], yg[idx]\n",
        "        A = mg = len(y_arr) \n",
        "\n",
        "        s11 = mg*np.var(mat[:,0])\n",
        "        s22 = mg*np.var(mat[:,1])\n",
        "        s12 = sum((mat[:,0]-musMLE[i,g])*(mat[:,1]-musMLE[j,g]))\n",
        "        B = S[i,i]*S[j,j]*A - s22 * S[i,i] - s11 * S[j,j]\n",
        "        coefficient = [-A, s12, B, s12*S[i,i]*S[j,j]]\n",
        "        r = np.roots(coefficient)\n",
        "        r = r[abs(np.imag(r)) < epsilon]\n",
        "        r = np.real(r)\n",
        "        r[abs(r) < epsilon] = 0\n",
        " \n",
        "        if len(r)>1:\n",
        "          condi_var = S[j,j] - r**2/S[i,i]\n",
        "          eta = -A*np.log(condi_var)-(S[j,j]-2*r/S[i,i]*s12 + r**2/S[i,i]**2*s11)/condi_var\n",
        "          r = r[eta == max(eta[~np.isnan(eta)])]\n",
        "\n",
        "        if len(r) > 1: \n",
        "          if sum(r==0.0) == len(r):\n",
        "            r = 0.\n",
        "          else:  \n",
        "            w = np.cov(mat, rowvar=False)  \n",
        "            #r = r[w[0,1]*r>=0]\n",
        "            r = r[np.abs(r-w[0,1]).argmin()] # select r that is closet to w[0,1] \n",
        "\n",
        "        S[i,j] = S[j,i] = r\n",
        "    return S"
      ],
      "execution_count": null,
      "outputs": []
    },
    {
      "cell_type": "markdown",
      "metadata": {
        "id": "XhPzOEDaePDB"
      },
      "source": [
        "## Individual compute error function "
      ]
    },
    {
      "cell_type": "code",
      "metadata": {
        "id": "XXAyfAX6eUko"
      },
      "source": [
        "def err(mus, S, mus_est, S_est):\n",
        "  er = [np.linalg.norm(mus_est-mus)/mus.size,\n",
        "        np.linalg.norm(S_est.flatten().flatten()-S.flatten())/S.size]  \n",
        "  return np.mean(er)  \n",
        "\n",
        "def generate_nan(Xtrain, missing_rate):\n",
        "  Xshape = Xtrain.shape\n",
        "  na_id = np.random.randint(0,Xtrain.size,round(missing_rate*Xtrain.size))\n",
        "  Xtr_nan = Xtrain.flatten()\n",
        "  Xtr_nan[na_id] = np.nan \n",
        "  return Xtr_nan.reshape(Xshape) "
      ],
      "execution_count": null,
      "outputs": []
    },
    {
      "cell_type": "code",
      "metadata": {
        "id": "-3ehJtbOKb8u"
      },
      "source": [
        "def compute_err_dper(Xtrain, ytrain, G, missing_rate):  \n",
        "    Xtr_nan = generate_nan(Xtrain, missing_rate)\n",
        "    \n",
        "    scaler = StandardScaler()\n",
        "    scaler.fit(Xtr_nan)\n",
        "    Xtr_nan = scaler.transform(Xtr_nan)\n",
        "    Xtrain = scaler.transform(Xtrain)\n",
        "    \n",
        "    # estimate parameters from full data\n",
        "    # each row is a mean of a class\n",
        "    mus = np.array([np.mean(Xtrain[ytrain==g,:], axis=0) for g in np.arange(G)])\n",
        "    S = np.array([np.cov(Xtrain[ytrain==g,:],rowvar =False) \n",
        "             for g in np.arange(G)]) \n",
        "\n",
        "    start = time.time()\n",
        "    mus_mle = musMLE(Xtr_nan,y,G)\n",
        "    S_mle = np.array([Smle(Xtr_nan,y,mus_mle, g) for g in range(G)])   \n",
        "    mle_err = err(mus, S, mus_mle.T, S_mle)\n",
        "    mle_time = time.time()-start\n",
        "    \n",
        "    return mle_err, mle_time"
      ],
      "execution_count": null,
      "outputs": []
    },
    {
      "cell_type": "code",
      "metadata": {
        "id": "Rclni2O8rvDt"
      },
      "source": [
        "def compute_err_soft(Xtrain, ytrain, G, missing_rate):  \n",
        "    Xtr_nan = generate_nan(Xtrain, missing_rate)\n",
        "    \n",
        "    scaler = StandardScaler()\n",
        "    scaler.fit(Xtr_nan)\n",
        "    Xtr_nan = scaler.transform(Xtr_nan)\n",
        "    Xtrain = scaler.transform(Xtrain)\n",
        "    \n",
        "    # estimate parameters from full data\n",
        "    # each row is a mean of a class\n",
        "    mus = np.array([np.mean(Xtrain[ytrain==g,:], axis=0) for g in np.arange(G)])\n",
        "    S = np.array([np.cov(Xtrain[ytrain==g,:],rowvar =False) \n",
        "             for g in np.arange(G)]) \n",
        "\n",
        "    start = time.time()\n",
        "    Xtr_softimpute = SoftImpute(max_iters = 100).fit_transform(Xtr_nan)\n",
        "    mus_softimpute = np.asarray([np.mean(Xtr_softimpute[ytrain==g,:], axis=0\n",
        "                                         ) for g in np.arange(G)])\n",
        "    S_softimpute = np.asarray([np.cov(Xtr_softimpute[ytrain==g,:], rowvar =False) \n",
        "             for g in np.arange(G)])\n",
        "\n",
        "    softimpute_err =  err(mus, S, mus_softimpute, S_softimpute)\n",
        "    softimpute_time = time.time()-start\n",
        " \n",
        "    return softimpute_err, softimpute_time"
      ],
      "execution_count": null,
      "outputs": []
    },
    {
      "cell_type": "code",
      "metadata": {
        "id": "sok1PekorxCJ"
      },
      "source": [
        "def compute_err_mice(Xtrain, ytrain, G, missing_rate):  \n",
        "    Xtr_nan = generate_nan(Xtrain, missing_rate)\n",
        "    \n",
        "    scaler = StandardScaler()\n",
        "    scaler.fit(Xtr_nan)\n",
        "    Xtr_nan = scaler.transform(Xtr_nan)\n",
        "    Xtrain = scaler.transform(Xtrain)\n",
        "    \n",
        "    # estimate parameters from full data\n",
        "    # each row is a mean of a class\n",
        "    mus = np.array([np.mean(Xtrain[ytrain==g,:], axis=0) for g in np.arange(G)])\n",
        "    S = np.array([np.cov(Xtrain[ytrain==g,:],rowvar =False) \n",
        "             for g in np.arange(G)]) \n",
        "\n",
        "    start = time.time()\n",
        "    Xtr_mice = IterativeImputer(max_iter=100).fit(Xtr_nan).transform(Xtr_nan)\n",
        "    mus_mice = np.asarray([np.mean(Xtr_mice[ytrain==g,:], axis=0\n",
        "                                   ) for g in np.arange(G)])\n",
        "    S_mice = np.asarray([np.cov(Xtr_mice[ytrain==g,:], rowvar =False) \n",
        "             for g in np.arange(G)])\n",
        "\n",
        "    mice_err = err(mus, S, mus_mice, S_mice)\n",
        "    mice_time = time.time()-start\n",
        " \n",
        "    return mice_err, mice_time"
      ],
      "execution_count": null,
      "outputs": []
    },
    {
      "cell_type": "code",
      "metadata": {
        "id": "CxQoEIqErxis"
      },
      "source": [
        "def compute_err_nuclear(Xtrain, ytrain, G, missing_rate):  \n",
        "    Xtr_nan = generate_nan(Xtrain, missing_rate)\n",
        "    \n",
        "    scaler = StandardScaler()\n",
        "    scaler.fit(Xtr_nan)\n",
        "    Xtr_nan = scaler.transform(Xtr_nan)\n",
        "    Xtrain = scaler.transform(Xtrain)\n",
        "    \n",
        "    # estimate parameters from full data\n",
        "    # each row is a mean of a class\n",
        "    mus = np.array([np.mean(Xtrain[ytrain==g,:], axis=0) for g in np.arange(G)])\n",
        "    S = np.array([np.cov(Xtrain[ytrain==g,:],rowvar =False) \n",
        "             for g in np.arange(G)]) \n",
        "\n",
        "    start = time.time()\n",
        "    Xtr_nuclear = NuclearNormMinimization(max_iters=100).fit_transform(Xtr_nan)\n",
        "    mus_nuclear = np.asarray([np.mean(Xtr_nuclear[ytrain==g,:], axis=0\n",
        "                                      ) for g in np.arange(G)])\n",
        "    S_nuclear = np.asarray([np.cov(Xtr_nuclear[ytrain==g,:], rowvar =False) \n",
        "             for g in np.arange(G)])\n",
        "    nuclear_err = err(mus, S, mus_nuclear, S_nuclear)\n",
        "    nuclear_time = time.time()-start\n",
        " \n",
        "    return nuclear_err, nuclear_time"
      ],
      "execution_count": null,
      "outputs": []
    },
    {
      "cell_type": "code",
      "metadata": {
        "id": "XjB8knnaryBK"
      },
      "source": [
        "def compute_err_mforest(Xtrain, ytrain, G, missing_rate):  \n",
        "    Xtr_nan = generate_nan(Xtrain, missing_rate)\n",
        "    \n",
        "    scaler = StandardScaler()\n",
        "    scaler.fit(Xtr_nan)\n",
        "    Xtr_nan = scaler.transform(Xtr_nan)\n",
        "    Xtrain = scaler.transform(Xtrain)\n",
        "    \n",
        "    # estimate parameters from full data\n",
        "    # each row is a mean of a class\n",
        "    mus = np.array([np.mean(Xtrain[ytrain==g,:], axis=0) for g in np.arange(G)])\n",
        "    S = np.array([np.cov(Xtrain[ytrain==g,:],rowvar =False) \n",
        "             for g in np.arange(G)]) \n",
        "\n",
        "    start = time.time()\n",
        "    Xtr_mforest = MissForest(random_state=0).fit_transform(Xtr_nan)\n",
        "    mus_mforest = np.asarray([np.mean(Xtr_mforest[ytrain==g,:], axis=0\n",
        "                                      ) for g in np.arange(G)])\n",
        "    S_mforest = np.asarray([np.cov(Xtr_mforest[ytrain==g,:], rowvar =False) \n",
        "             for g in np.arange(G)])\n",
        "    mforest_err = err(mus, S, mus_mforest, S_mforest)\n",
        "    mforest_time = time.time()-start      \n",
        " \n",
        "    return mforest_err, mforest_time"
      ],
      "execution_count": null,
      "outputs": []
    },
    {
      "cell_type": "markdown",
      "metadata": {
        "id": "xxFKee5wgcJk"
      },
      "source": [
        "### FASHION MNIST"
      ]
    },
    {
      "cell_type": "code",
      "metadata": {
        "colab": {
          "base_uri": "https://localhost:8080/",
          "height": 220,
          "referenced_widgets": [
            "f417ec68aeba499a890880cef717a19b",
            "2a29b7b5c68b441e9c2e12c4c862e3dd",
            "53bfd0cacc8f40c6a588f8e37d009395",
            "d9cf3b771b87429f89ec21b098208ed1",
            "cb313dda70a545a4938e021aea26acf4",
            "6e1159299c7f49dbb6f59cd60c939df7",
            "351c648b6419442b97e9158ea6f07c31",
            "1fa7b9c393c14314973469d034b81e4c"
          ]
        },
        "id": "tOG38sMNgeTR",
        "outputId": "b8e0bba7-ffcc-49f5-87e1-1d1d1992cc98"
      },
      "source": [
        "import tensorflow as tf\n",
        "import tensorflow_datasets as tfds\n",
        "\n",
        "fashion_mnist = tf.keras.datasets.fashion_mnist\n",
        "(Xtrain, ytrain), (Xtest, ytest) = fashion_mnist.load_data()\n",
        "Xtrain = Xtrain.astype(float).reshape((60000,784))\n",
        "Xtest = Xtest.astype(float).reshape((10000,784))\n",
        "\n",
        "X = np.vstack((Xtrain, Xtest))\n",
        "y = np.hstack((ytrain, ytest))\n",
        "\n",
        "# set random seed and shuffle the data\n",
        "np.random.seed(1)\n",
        "idx = np.arange(len(y))\n",
        "np.random.shuffle(idx)\n",
        "X, y = X[idx,:], y[idx]  \n",
        "\n",
        "X.shape, y.shape "
      ],
      "execution_count": null,
      "outputs": [
        {
          "output_type": "execute_result",
          "data": {
            "text/plain": [
              "((70000, 784), (70000,))"
            ]
          },
          "metadata": {
            "tags": []
          },
          "execution_count": 14
        }
      ]
    },
    {
      "cell_type": "code",
      "metadata": {
        "colab": {
          "base_uri": "https://localhost:8080/"
        },
        "id": "HMwOTYJTgnDP",
        "outputId": "863f0f69-94e3-42c1-b993-927a79c43a10"
      },
      "source": [
        "G = 10\n",
        "np.random.seed(3)\n",
        "e20_dper = compute_err_dper(X, y, G, 0.2)\n",
        "e35_dper = compute_err_dper(X, y, G, 0.35)\n",
        "e50_dper = compute_err_dper(X, y, G, 0.5)\n",
        "e65_dper = compute_err_dper(X, y, G, 0.65)\n",
        "e80_dper = compute_err_dper(X, y, G, 0.8)"
      ],
      "execution_count": null,
      "outputs": [
        {
          "output_type": "stream",
          "text": [
            "<ipython-input-2-cba8272b93b5>:54: RuntimeWarning: invalid value encountered in log\n",
            "  eta = -A*np.log(condi_var)-(S[j,j]-2*r/S[i,i]*s12 + r**2/S[i,i]**2*s11)/condi_var\n",
            "<ipython-input-2-cba8272b93b5>:54: RuntimeWarning: invalid value encountered in log\n",
            "  eta = -A*np.log(condi_var)-(S[j,j]-2*r/S[i,i]*s12 + r**2/S[i,i]**2*s11)/condi_var\n",
            "<ipython-input-2-cba8272b93b5>:54: RuntimeWarning: invalid value encountered in log\n",
            "  eta = -A*np.log(condi_var)-(S[j,j]-2*r/S[i,i]*s12 + r**2/S[i,i]**2*s11)/condi_var\n",
            "<ipython-input-2-cba8272b93b5>:54: RuntimeWarning: invalid value encountered in log\n",
            "  eta = -A*np.log(condi_var)-(S[j,j]-2*r/S[i,i]*s12 + r**2/S[i,i]**2*s11)/condi_var\n",
            "<ipython-input-2-cba8272b93b5>:54: RuntimeWarning: invalid value encountered in log\n",
            "  eta = -A*np.log(condi_var)-(S[j,j]-2*r/S[i,i]*s12 + r**2/S[i,i]**2*s11)/condi_var\n"
          ],
          "name": "stderr"
        }
      ]
    },
    {
      "cell_type": "code",
      "metadata": {
        "id": "3ZBvjMfTKb81",
        "outputId": "090aa0c1-376d-4538-861d-b755172e33db"
      },
      "source": [
        "# the left column is the error, the right column is the running time\n",
        "np.vstack((e20_dper,e35_dper,e50_dper,e65_dper,e80_dper))"
      ],
      "execution_count": null,
      "outputs": [
        {
          "output_type": "execute_result",
          "data": {
            "text/plain": [
              "array([[2.89677844e-05, 6.16749044e+03],\n",
              "       [3.95722202e-05, 5.05816724e+03],\n",
              "       [5.04169202e-05, 4.26305263e+03],\n",
              "       [5.89859441e-05, 3.49414068e+03],\n",
              "       [8.19900695e-05, 2.91714304e+03]])"
            ]
          },
          "metadata": {
            "tags": []
          },
          "execution_count": 21
        }
      ]
    },
    {
      "cell_type": "markdown",
      "metadata": {
        "id": "XK7B4g2uKb81"
      },
      "source": [
        "## SOFT IMPUTE"
      ]
    },
    {
      "cell_type": "code",
      "metadata": {
        "id": "LAw7vYGJKb82",
        "outputId": "822fad28-0fa9-453a-815d-188307fc65e3"
      },
      "source": [
        "e20_soft = compute_err_soft(X, y, G, 0.2)\n",
        "e35_soft = compute_err_soft(X, y, G, 0.35)\n",
        "e50_soft = compute_err_soft(X, y, G, 0.5)\n",
        "e65_soft = compute_err_soft(X, y, G, 0.65)\n",
        "e80_soft = compute_err_soft(X, y, G, 0.8)"
      ],
      "execution_count": null,
      "outputs": [
        {
          "output_type": "stream",
          "text": [
            "[SoftImpute] Max Singular Value of X_init = 2852.173305\n",
            "[SoftImpute] Iter 1: observed MAE=0.127547 rank=784\n",
            "[SoftImpute] Iter 2: observed MAE=0.130737 rank=784\n",
            "[SoftImpute] Iter 3: observed MAE=0.130801 rank=690\n",
            "[SoftImpute] Iter 4: observed MAE=0.125551 rank=590\n",
            "[SoftImpute] Iter 5: observed MAE=0.122522 rank=554\n",
            "[SoftImpute] Iter 6: observed MAE=0.121215 rank=542\n",
            "[SoftImpute] Iter 7: observed MAE=0.120654 rank=535\n",
            "[SoftImpute] Iter 8: observed MAE=0.120402 rank=532\n",
            "[SoftImpute] Iter 9: observed MAE=0.120284 rank=530\n",
            "[SoftImpute] Iter 10: observed MAE=0.120227 rank=528\n",
            "[SoftImpute] Iter 11: observed MAE=0.120198 rank=528\n",
            "[SoftImpute] Iter 12: observed MAE=0.120184 rank=528\n",
            "[SoftImpute] Iter 13: observed MAE=0.120176 rank=528\n",
            "[SoftImpute] Iter 14: observed MAE=0.120173 rank=528\n",
            "[SoftImpute] Iter 15: observed MAE=0.120171 rank=528\n",
            "[SoftImpute] Iter 16: observed MAE=0.120170 rank=528\n",
            "[SoftImpute] Stopped after iteration 16 for lambda=57.043466\n",
            "[SoftImpute] Max Singular Value of X_init = 2456.381067\n",
            "[SoftImpute] Iter 1: observed MAE=0.126877 rank=784\n",
            "[SoftImpute] Iter 2: observed MAE=0.128203 rank=784\n",
            "[SoftImpute] Iter 3: observed MAE=0.128810 rank=784\n",
            "[SoftImpute] Iter 4: observed MAE=0.128338 rank=784\n",
            "[SoftImpute] Iter 5: observed MAE=0.125827 rank=717\n",
            "[SoftImpute] Iter 6: observed MAE=0.121840 rank=651\n",
            "[SoftImpute] Iter 7: observed MAE=0.119123 rank=614\n",
            "[SoftImpute] Iter 8: observed MAE=0.117570 rank=594\n",
            "[SoftImpute] Iter 9: observed MAE=0.116710 rank=582\n",
            "[SoftImpute] Iter 10: observed MAE=0.116230 rank=576\n",
            "[SoftImpute] Iter 11: observed MAE=0.115956 rank=571\n",
            "[SoftImpute] Iter 12: observed MAE=0.115796 rank=569\n",
            "[SoftImpute] Iter 13: observed MAE=0.115700 rank=566\n",
            "[SoftImpute] Iter 14: observed MAE=0.115642 rank=565\n",
            "[SoftImpute] Iter 15: observed MAE=0.115606 rank=565\n",
            "[SoftImpute] Iter 16: observed MAE=0.115583 rank=564\n",
            "[SoftImpute] Iter 17: observed MAE=0.115569 rank=564\n",
            "[SoftImpute] Iter 18: observed MAE=0.115560 rank=564\n",
            "[SoftImpute] Iter 19: observed MAE=0.115554 rank=564\n",
            "[SoftImpute] Iter 20: observed MAE=0.115550 rank=564\n",
            "[SoftImpute] Iter 21: observed MAE=0.115548 rank=563\n",
            "[SoftImpute] Stopped after iteration 21 for lambda=49.127621\n",
            "[SoftImpute] Max Singular Value of X_init = 2116.079755\n",
            "[SoftImpute] Iter 1: observed MAE=0.124424 rank=784\n",
            "[SoftImpute] Iter 2: observed MAE=0.125055 rank=784\n",
            "[SoftImpute] Iter 3: observed MAE=0.125316 rank=784\n",
            "[SoftImpute] Iter 4: observed MAE=0.125059 rank=784\n",
            "[SoftImpute] Iter 5: observed MAE=0.124172 rank=784\n",
            "[SoftImpute] Iter 6: observed MAE=0.122677 rank=784\n",
            "[SoftImpute] Iter 7: observed MAE=0.120666 rank=764\n",
            "[SoftImpute] Iter 8: observed MAE=0.118010 rank=722\n",
            "[SoftImpute] Iter 9: observed MAE=0.115667 rank=686\n",
            "[SoftImpute] Iter 10: observed MAE=0.113965 rank=659\n",
            "[SoftImpute] Iter 11: observed MAE=0.112815 rank=641\n",
            "[SoftImpute] Iter 12: observed MAE=0.112063 rank=632\n",
            "[SoftImpute] Iter 13: observed MAE=0.111566 rank=622\n",
            "[SoftImpute] Iter 14: observed MAE=0.111233 rank=617\n",
            "[SoftImpute] Iter 15: observed MAE=0.111009 rank=613\n",
            "[SoftImpute] Iter 16: observed MAE=0.110856 rank=610\n",
            "[SoftImpute] Iter 17: observed MAE=0.110751 rank=608\n",
            "[SoftImpute] Iter 18: observed MAE=0.110677 rank=606\n",
            "[SoftImpute] Iter 19: observed MAE=0.110625 rank=605\n",
            "[SoftImpute] Iter 20: observed MAE=0.110589 rank=604\n",
            "[SoftImpute] Iter 21: observed MAE=0.110562 rank=603\n",
            "[SoftImpute] Iter 22: observed MAE=0.110543 rank=603\n",
            "[SoftImpute] Iter 23: observed MAE=0.110529 rank=602\n",
            "[SoftImpute] Iter 24: observed MAE=0.110519 rank=602\n",
            "[SoftImpute] Iter 25: observed MAE=0.110512 rank=602\n",
            "[SoftImpute] Iter 26: observed MAE=0.110507 rank=602\n",
            "[SoftImpute] Stopped after iteration 26 for lambda=42.321595\n",
            "[SoftImpute] Max Singular Value of X_init = 1823.196074\n",
            "[SoftImpute] Iter 1: observed MAE=0.120553 rank=784\n",
            "[SoftImpute] Iter 2: observed MAE=0.120876 rank=784\n",
            "[SoftImpute] Iter 3: observed MAE=0.121003 rank=784\n",
            "[SoftImpute] Iter 4: observed MAE=0.120875 rank=784\n",
            "[SoftImpute] Iter 5: observed MAE=0.120431 rank=784\n",
            "[SoftImpute] Iter 6: observed MAE=0.119630 rank=784\n",
            "[SoftImpute] Iter 7: observed MAE=0.118475 rank=784\n",
            "[SoftImpute] Iter 8: observed MAE=0.117032 rank=784\n",
            "[SoftImpute] Iter 9: observed MAE=0.115427 rank=784\n",
            "[SoftImpute] Iter 10: observed MAE=0.113795 rank=778\n",
            "[SoftImpute] Iter 11: observed MAE=0.112088 rank=755\n",
            "[SoftImpute] Iter 12: observed MAE=0.110523 rank=735\n",
            "[SoftImpute] Iter 13: observed MAE=0.109232 rank=713\n",
            "[SoftImpute] Iter 14: observed MAE=0.108228 rank=697\n",
            "[SoftImpute] Iter 15: observed MAE=0.107476 rank=684\n",
            "[SoftImpute] Iter 16: observed MAE=0.106914 rank=675\n",
            "[SoftImpute] Iter 17: observed MAE=0.106498 rank=667\n",
            "[SoftImpute] Iter 18: observed MAE=0.106186 rank=662\n",
            "[SoftImpute] Iter 19: observed MAE=0.105953 rank=657\n",
            "[SoftImpute] Iter 20: observed MAE=0.105776 rank=653\n",
            "[SoftImpute] Iter 21: observed MAE=0.105641 rank=649\n",
            "[SoftImpute] Iter 22: observed MAE=0.105540 rank=648\n",
            "[SoftImpute] Iter 23: observed MAE=0.105462 rank=646\n",
            "[SoftImpute] Iter 24: observed MAE=0.105401 rank=644\n",
            "[SoftImpute] Iter 25: observed MAE=0.105355 rank=643\n",
            "[SoftImpute] Iter 26: observed MAE=0.105319 rank=643\n",
            "[SoftImpute] Iter 27: observed MAE=0.105291 rank=643\n",
            "[SoftImpute] Iter 28: observed MAE=0.105269 rank=642\n",
            "[SoftImpute] Iter 29: observed MAE=0.105252 rank=641\n",
            "[SoftImpute] Iter 30: observed MAE=0.105238 rank=641\n",
            "[SoftImpute] Iter 31: observed MAE=0.105227 rank=641\n",
            "[SoftImpute] Iter 32: observed MAE=0.105218 rank=641\n",
            "[SoftImpute] Stopped after iteration 32 for lambda=36.463921\n",
            "[SoftImpute] Max Singular Value of X_init = 1569.480245\n",
            "[SoftImpute] Iter 1: observed MAE=0.115626 rank=784\n",
            "[SoftImpute] Iter 2: observed MAE=0.115795 rank=784\n",
            "[SoftImpute] Iter 3: observed MAE=0.115859 rank=784\n",
            "[SoftImpute] Iter 4: observed MAE=0.115793 rank=784\n",
            "[SoftImpute] Iter 5: observed MAE=0.115571 rank=784\n",
            "[SoftImpute] Iter 6: observed MAE=0.115169 rank=784\n",
            "[SoftImpute] Iter 7: observed MAE=0.114569 rank=784\n",
            "[SoftImpute] Iter 8: observed MAE=0.113766 rank=784\n",
            "[SoftImpute] Iter 9: observed MAE=0.112772 rank=784\n",
            "[SoftImpute] Iter 10: observed MAE=0.111623 rank=784\n",
            "[SoftImpute] Iter 11: observed MAE=0.110373 rank=784\n",
            "[SoftImpute] Iter 12: observed MAE=0.109089 rank=784\n",
            "[SoftImpute] Iter 13: observed MAE=0.107839 rank=784\n",
            "[SoftImpute] Iter 14: observed MAE=0.106673 rank=783\n",
            "[SoftImpute] Iter 15: observed MAE=0.105595 rank=776\n",
            "[SoftImpute] Iter 16: observed MAE=0.104591 rank=762\n",
            "[SoftImpute] Iter 17: observed MAE=0.103705 rank=751\n",
            "[SoftImpute] Iter 18: observed MAE=0.102960 rank=740\n",
            "[SoftImpute] Iter 19: observed MAE=0.102342 rank=729\n",
            "[SoftImpute] Iter 20: observed MAE=0.101842 rank=721\n",
            "[SoftImpute] Iter 21: observed MAE=0.101430 rank=713\n",
            "[SoftImpute] Iter 22: observed MAE=0.101099 rank=707\n",
            "[SoftImpute] Iter 23: observed MAE=0.100829 rank=702\n",
            "[SoftImpute] Iter 24: observed MAE=0.100612 rank=697\n",
            "[SoftImpute] Iter 25: observed MAE=0.100434 rank=695\n",
            "[SoftImpute] Iter 26: observed MAE=0.100291 rank=691\n",
            "[SoftImpute] Iter 27: observed MAE=0.100174 rank=689\n",
            "[SoftImpute] Iter 28: observed MAE=0.100078 rank=686\n",
            "[SoftImpute] Iter 29: observed MAE=0.099999 rank=685\n",
            "[SoftImpute] Iter 30: observed MAE=0.099935 rank=684\n",
            "[SoftImpute] Iter 31: observed MAE=0.099881 rank=682\n",
            "[SoftImpute] Iter 32: observed MAE=0.099837 rank=680\n",
            "[SoftImpute] Iter 33: observed MAE=0.099800 rank=680\n",
            "[SoftImpute] Iter 34: observed MAE=0.099769 rank=680\n",
            "[SoftImpute] Iter 35: observed MAE=0.099744 rank=678\n",
            "[SoftImpute] Iter 36: observed MAE=0.099723 rank=677\n",
            "[SoftImpute] Iter 37: observed MAE=0.099705 rank=677\n",
            "[SoftImpute] Iter 38: observed MAE=0.099690 rank=677\n",
            "[SoftImpute] Iter 39: observed MAE=0.099677 rank=677\n",
            "[SoftImpute] Iter 40: observed MAE=0.099667 rank=677\n",
            "[SoftImpute] Stopped after iteration 40 for lambda=31.389605\n"
          ],
          "name": "stdout"
        }
      ]
    },
    {
      "cell_type": "code",
      "metadata": {
        "id": "GphnECsxKb82",
        "outputId": "6f18fe61-a9f8-4c27-a4a7-fc7972a7870b"
      },
      "source": [
        "# the left column is the error, the right column is the running time\n",
        "np.vstack((e20_soft, e35_soft,e50_soft,e65_soft,e80_soft))"
      ],
      "execution_count": null,
      "outputs": [
        {
          "output_type": "execute_result",
          "data": {
            "text/plain": [
              "array([[3.77228654e-05, 7.08477541e+02],\n",
              "       [6.59304443e-05, 9.27241102e+02],\n",
              "       [9.49328728e-05, 1.12007290e+03],\n",
              "       [1.27231684e-04, 1.66373290e+03],\n",
              "       [1.62231823e-04, 2.01975027e+03]])"
            ]
          },
          "metadata": {
            "tags": []
          },
          "execution_count": 23
        }
      ]
    },
    {
      "cell_type": "markdown",
      "metadata": {
        "id": "azP8tqWKKb83"
      },
      "source": [
        "## MICE IMPUTE"
      ]
    },
    {
      "cell_type": "code",
      "metadata": {
        "id": "PZDa47QGKb83"
      },
      "source": [
        "# start time: 7:42 AM, interrupt: 9:52pm\n",
        "e20_mice = compute_err_mice(X, y, G, 0.2)"
      ],
      "execution_count": null,
      "outputs": []
    },
    {
      "cell_type": "code",
      "metadata": {
        "id": "pds44nz1Kb83"
      },
      "source": [
        "# start time: 8:22 AM, interrupt: 1:30 PM\n",
        "e35_mice = compute_err_mice(X, y, G, 0.35)"
      ],
      "execution_count": null,
      "outputs": []
    },
    {
      "cell_type": "code",
      "metadata": {
        "id": "Swf9QRI-Kb84"
      },
      "source": [
        "# start time: 8:22 AM, interrupt: 1:30 PM\n",
        "e50_mice = compute_err_mice(X, y, G, 0.5)"
      ],
      "execution_count": null,
      "outputs": []
    },
    {
      "cell_type": "code",
      "metadata": {
        "id": "DuKuKEkAKb84"
      },
      "source": [
        "# start time: 1:30 PM, interrupt: 7:00 PM\n",
        "e65_mice = compute_err_mice(X, y, G, 0.65)"
      ],
      "execution_count": null,
      "outputs": []
    },
    {
      "cell_type": "code",
      "metadata": {
        "id": "Tacc2mhFKb84"
      },
      "source": [
        "# start time: 9:52 PM, interrupt: 8:22 AM\n",
        "e80_mice = compute_err_mice(X, y, G, 0.8)"
      ],
      "execution_count": null,
      "outputs": []
    },
    {
      "cell_type": "markdown",
      "metadata": {
        "id": "eGy1bsmQKb85"
      },
      "source": [
        "## Nuclear norm"
      ]
    },
    {
      "cell_type": "code",
      "metadata": {
        "id": "jIZ_cP5nKb85"
      },
      "source": [
        "#kernel dies\n",
        "e20_nuclear = compute_err_nuclear(X, y, G, 0.2)"
      ],
      "execution_count": null,
      "outputs": []
    },
    {
      "cell_type": "code",
      "metadata": {
        "id": "rK6pdYATKb85"
      },
      "source": [
        "#kernel dies\n",
        "e35_nuclear = compute_err_nuclear(X, y, G, 0.35)"
      ],
      "execution_count": null,
      "outputs": []
    },
    {
      "cell_type": "code",
      "metadata": {
        "id": "troKc9i6Kb85"
      },
      "source": [
        "#kernel dies\n",
        "e50_nuclear = compute_err_nuclear(X, y, G, 0.5)"
      ],
      "execution_count": null,
      "outputs": []
    },
    {
      "cell_type": "code",
      "metadata": {
        "id": "aRbomc7xKb86"
      },
      "source": [
        "#kernel dies\n",
        "e65_nuclear = compute_err_nuclear(X, y, G, 0.65)"
      ],
      "execution_count": null,
      "outputs": []
    },
    {
      "cell_type": "code",
      "metadata": {
        "id": "0PW-zflvKb86"
      },
      "source": [
        "#kernel dies\n",
        "e80_nuclear = compute_err_nuclear(X, y, G, 0.8)"
      ],
      "execution_count": null,
      "outputs": []
    },
    {
      "cell_type": "markdown",
      "metadata": {
        "id": "450LVftvKb86"
      },
      "source": [
        "## Miss forest"
      ]
    },
    {
      "cell_type": "code",
      "metadata": {
        "id": "8cQwu0JUKb87"
      },
      "source": [
        "G = 10\n",
        "e20_mforest = compute_err_mforest(X, y, G, 0.2)"
      ],
      "execution_count": null,
      "outputs": []
    },
    {
      "cell_type": "code",
      "metadata": {
        "id": "tLYlHQURKb87"
      },
      "source": [
        "compute_err_mforest(X, y, G, 0.35)"
      ],
      "execution_count": null,
      "outputs": []
    },
    {
      "cell_type": "code",
      "metadata": {
        "id": "FdDBKYtEKb87"
      },
      "source": [
        "compute_err_mforest(X, y, G, 0.5)"
      ],
      "execution_count": null,
      "outputs": []
    },
    {
      "cell_type": "code",
      "metadata": {
        "id": "L8IvRDYtKb88"
      },
      "source": [
        "compute_err_mforest(X, y, G, 0.65)"
      ],
      "execution_count": null,
      "outputs": []
    },
    {
      "cell_type": "code",
      "metadata": {
        "id": "ZBypIxB2Kb88"
      },
      "source": [
        "compute_err_mforest(X, y, G, 0.8)"
      ],
      "execution_count": null,
      "outputs": []
    },
    {
      "cell_type": "code",
      "metadata": {
        "id": "3X4r5z1BKb88"
      },
      "source": [
        ""
      ],
      "execution_count": null,
      "outputs": []
    }
  ]
}