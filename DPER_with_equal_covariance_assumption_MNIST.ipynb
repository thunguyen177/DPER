{
  "nbformat": 4,
  "nbformat_minor": 0,
  "metadata": {
    "colab": {
      "name": "DPER with equal covariance assumption_MNIST.ipynb",
      "provenance": [],
      "collapsed_sections": [],
      "toc_visible": true,
      "include_colab_link": true
    },
    "kernelspec": {
      "display_name": "Python 3",
      "language": "python",
      "name": "python3"
    },
    "language_info": {
      "codemirror_mode": {
        "name": "ipython",
        "version": 3
      },
      "file_extension": ".py",
      "mimetype": "text/x-python",
      "name": "python",
      "nbconvert_exporter": "python",
      "pygments_lexer": "ipython3",
      "version": "3.8.8"
    },
    "widgets": {
      "application/vnd.jupyter.widget-state+json": {
        "599b532d3b284f23962909ff05633e53": {
          "model_module": "@jupyter-widgets/controls",
          "model_name": "HBoxModel",
          "state": {
            "_view_name": "HBoxView",
            "_dom_classes": [],
            "_model_name": "HBoxModel",
            "_view_module": "@jupyter-widgets/controls",
            "_model_module_version": "1.5.0",
            "_view_count": null,
            "_view_module_version": "1.5.0",
            "box_style": "",
            "layout": "IPY_MODEL_7d90c9a50b1a49c4901663de2f1f93dc",
            "_model_module": "@jupyter-widgets/controls",
            "children": [
              "IPY_MODEL_928dfbc6f8e740f4b852728feb972940",
              "IPY_MODEL_08c0ba31702c4a06a6904f7762a91ebf"
            ]
          }
        },
        "7d90c9a50b1a49c4901663de2f1f93dc": {
          "model_module": "@jupyter-widgets/base",
          "model_name": "LayoutModel",
          "state": {
            "_view_name": "LayoutView",
            "grid_template_rows": null,
            "right": null,
            "justify_content": null,
            "_view_module": "@jupyter-widgets/base",
            "overflow": null,
            "_model_module_version": "1.2.0",
            "_view_count": null,
            "flex_flow": null,
            "width": null,
            "min_width": null,
            "border": null,
            "align_items": null,
            "bottom": null,
            "_model_module": "@jupyter-widgets/base",
            "top": null,
            "grid_column": null,
            "overflow_y": null,
            "overflow_x": null,
            "grid_auto_flow": null,
            "grid_area": null,
            "grid_template_columns": null,
            "flex": null,
            "_model_name": "LayoutModel",
            "justify_items": null,
            "grid_row": null,
            "max_height": null,
            "align_content": null,
            "visibility": null,
            "align_self": null,
            "height": null,
            "min_height": null,
            "padding": null,
            "grid_auto_rows": null,
            "grid_gap": null,
            "max_width": null,
            "order": null,
            "_view_module_version": "1.2.0",
            "grid_template_areas": null,
            "object_position": null,
            "object_fit": null,
            "grid_auto_columns": null,
            "margin": null,
            "display": null,
            "left": null
          }
        },
        "928dfbc6f8e740f4b852728feb972940": {
          "model_module": "@jupyter-widgets/controls",
          "model_name": "FloatProgressModel",
          "state": {
            "_view_name": "ProgressView",
            "style": "IPY_MODEL_98e23206868f4a76937f7c1b2121a755",
            "_dom_classes": [],
            "description": "Dl Completed...: 100%",
            "_model_name": "FloatProgressModel",
            "bar_style": "success",
            "max": 4,
            "_view_module": "@jupyter-widgets/controls",
            "_model_module_version": "1.5.0",
            "value": 4,
            "_view_count": null,
            "_view_module_version": "1.5.0",
            "orientation": "horizontal",
            "min": 0,
            "description_tooltip": null,
            "_model_module": "@jupyter-widgets/controls",
            "layout": "IPY_MODEL_c65627d9ac3446dfa620232b626c2c61"
          }
        },
        "08c0ba31702c4a06a6904f7762a91ebf": {
          "model_module": "@jupyter-widgets/controls",
          "model_name": "HTMLModel",
          "state": {
            "_view_name": "HTMLView",
            "style": "IPY_MODEL_e6a60c1de78d476ca1a832cc6361e01f",
            "_dom_classes": [],
            "description": "",
            "_model_name": "HTMLModel",
            "placeholder": "​",
            "_view_module": "@jupyter-widgets/controls",
            "_model_module_version": "1.5.0",
            "value": " 4/4 [00:00&lt;00:00,  5.88 file/s]",
            "_view_count": null,
            "_view_module_version": "1.5.0",
            "description_tooltip": null,
            "_model_module": "@jupyter-widgets/controls",
            "layout": "IPY_MODEL_8d662a02105d4077920b16e0ea901f1f"
          }
        },
        "98e23206868f4a76937f7c1b2121a755": {
          "model_module": "@jupyter-widgets/controls",
          "model_name": "ProgressStyleModel",
          "state": {
            "_view_name": "StyleView",
            "_model_name": "ProgressStyleModel",
            "description_width": "initial",
            "_view_module": "@jupyter-widgets/base",
            "_model_module_version": "1.5.0",
            "_view_count": null,
            "_view_module_version": "1.2.0",
            "bar_color": null,
            "_model_module": "@jupyter-widgets/controls"
          }
        },
        "c65627d9ac3446dfa620232b626c2c61": {
          "model_module": "@jupyter-widgets/base",
          "model_name": "LayoutModel",
          "state": {
            "_view_name": "LayoutView",
            "grid_template_rows": null,
            "right": null,
            "justify_content": null,
            "_view_module": "@jupyter-widgets/base",
            "overflow": null,
            "_model_module_version": "1.2.0",
            "_view_count": null,
            "flex_flow": null,
            "width": null,
            "min_width": null,
            "border": null,
            "align_items": null,
            "bottom": null,
            "_model_module": "@jupyter-widgets/base",
            "top": null,
            "grid_column": null,
            "overflow_y": null,
            "overflow_x": null,
            "grid_auto_flow": null,
            "grid_area": null,
            "grid_template_columns": null,
            "flex": null,
            "_model_name": "LayoutModel",
            "justify_items": null,
            "grid_row": null,
            "max_height": null,
            "align_content": null,
            "visibility": null,
            "align_self": null,
            "height": null,
            "min_height": null,
            "padding": null,
            "grid_auto_rows": null,
            "grid_gap": null,
            "max_width": null,
            "order": null,
            "_view_module_version": "1.2.0",
            "grid_template_areas": null,
            "object_position": null,
            "object_fit": null,
            "grid_auto_columns": null,
            "margin": null,
            "display": null,
            "left": null
          }
        },
        "e6a60c1de78d476ca1a832cc6361e01f": {
          "model_module": "@jupyter-widgets/controls",
          "model_name": "DescriptionStyleModel",
          "state": {
            "_view_name": "StyleView",
            "_model_name": "DescriptionStyleModel",
            "description_width": "",
            "_view_module": "@jupyter-widgets/base",
            "_model_module_version": "1.5.0",
            "_view_count": null,
            "_view_module_version": "1.2.0",
            "_model_module": "@jupyter-widgets/controls"
          }
        },
        "8d662a02105d4077920b16e0ea901f1f": {
          "model_module": "@jupyter-widgets/base",
          "model_name": "LayoutModel",
          "state": {
            "_view_name": "LayoutView",
            "grid_template_rows": null,
            "right": null,
            "justify_content": null,
            "_view_module": "@jupyter-widgets/base",
            "overflow": null,
            "_model_module_version": "1.2.0",
            "_view_count": null,
            "flex_flow": null,
            "width": null,
            "min_width": null,
            "border": null,
            "align_items": null,
            "bottom": null,
            "_model_module": "@jupyter-widgets/base",
            "top": null,
            "grid_column": null,
            "overflow_y": null,
            "overflow_x": null,
            "grid_auto_flow": null,
            "grid_area": null,
            "grid_template_columns": null,
            "flex": null,
            "_model_name": "LayoutModel",
            "justify_items": null,
            "grid_row": null,
            "max_height": null,
            "align_content": null,
            "visibility": null,
            "align_self": null,
            "height": null,
            "min_height": null,
            "padding": null,
            "grid_auto_rows": null,
            "grid_gap": null,
            "max_width": null,
            "order": null,
            "_view_module_version": "1.2.0",
            "grid_template_areas": null,
            "object_position": null,
            "object_fit": null,
            "grid_auto_columns": null,
            "margin": null,
            "display": null,
            "left": null
          }
        }
      }
    }
  },
  "cells": [
    {
      "cell_type": "markdown",
      "metadata": {
        "id": "view-in-github",
        "colab_type": "text"
      },
      "source": [
        "<a href=\"https://colab.research.google.com/github/thunguyen177/DPER/blob/main/DPER_with_equal_covariance_assumption_MNIST.ipynb\" target=\"_parent\"><img src=\"https://colab.research.google.com/assets/colab-badge.svg\" alt=\"Open In Colab\"/></a>"
      ]
    },
    {
      "cell_type": "markdown",
      "metadata": {
        "id": "01Q1wGI3uIdg"
      },
      "source": [
        "## libraries and function \n",
        "\n",
        "\n",
        "\n"
      ]
    },
    {
      "cell_type": "code",
      "metadata": {
        "colab": {
          "base_uri": "https://localhost:8080/"
        },
        "id": "iEdO9dJPION8",
        "outputId": "1f752588-19f5-4aad-c598-a9caab384c9d"
      },
      "source": [
        "from sklearn import datasets\n",
        "from sklearn.preprocessing import LabelEncoder, StandardScaler\n",
        "from sklearn.discriminant_analysis import LinearDiscriminantAnalysis as skLDA\n",
        "from sklearn.experimental import enable_iterative_imputer\n",
        "from sklearn.impute import IterativeImputer\n",
        "from scipy import stats\n",
        "import numpy as np\n",
        "!pip install impyute\n",
        "import impyute as impy\n",
        "from fancyimpute import SoftImpute, NuclearNormMinimization\n",
        "import pandas as pd\n",
        "import time\n",
        "!pip install missingpy\n",
        "from missingpy import MissForest"
      ],
      "execution_count": null,
      "outputs": [
        {
          "output_type": "stream",
          "text": [
            "Requirement already satisfied: impyute in /usr/local/lib/python3.7/dist-packages (0.0.8)\n",
            "Requirement already satisfied: numpy in /usr/local/lib/python3.7/dist-packages (from impyute) (1.19.5)\n",
            "Requirement already satisfied: scipy in /usr/local/lib/python3.7/dist-packages (from impyute) (1.4.1)\n",
            "Requirement already satisfied: scikit-learn in /usr/local/lib/python3.7/dist-packages (from impyute) (0.22.2.post1)\n",
            "Requirement already satisfied: joblib>=0.11 in /usr/local/lib/python3.7/dist-packages (from scikit-learn->impyute) (1.0.1)\n",
            "Collecting missingpy\n",
            "\u001b[?25l  Downloading https://files.pythonhosted.org/packages/b5/be/998d04d27054b58f0974b5f09f8457778a0a72d4355e0b7ae877b6cfb850/missingpy-0.2.0-py3-none-any.whl (49kB)\n",
            "\u001b[K     |████████████████████████████████| 51kB 5.7MB/s \n",
            "\u001b[?25hInstalling collected packages: missingpy\n",
            "Successfully installed missingpy-0.2.0\n"
          ],
          "name": "stdout"
        },
        {
          "output_type": "stream",
          "text": [
            "/usr/local/lib/python3.7/dist-packages/sklearn/utils/deprecation.py:144: FutureWarning: The sklearn.neighbors.base module is  deprecated in version 0.22 and will be removed in version 0.24. The corresponding classes / functions should instead be imported from sklearn.neighbors. Anything that cannot be imported from sklearn.neighbors is now part of the private API.\n",
            "  warnings.warn(message, FutureWarning)\n"
          ],
          "name": "stderr"
        }
      ]
    },
    {
      "cell_type": "markdown",
      "metadata": {
        "id": "Gm5CldkaaZWo"
      },
      "source": [
        "## MLE estimation function  \n",
        "\n",
        "\n"
      ]
    },
    {
      "cell_type": "code",
      "metadata": {
        "id": "m2pnqBY91dul"
      },
      "source": [
        "def diag_term(i,X,y):\n",
        "  arr0 = X[:,i]\n",
        "  nar2 = 0\n",
        "  arr = arr0[~np.isnan(arr0)]\n",
        "  y_arr = y[~np.isnan(arr0)]\n",
        "\n",
        "  _, counts = np.unique(y_arr, return_counts=True)\n",
        "  ind = np.insert(np.cumsum(counts), 0, 0)\n",
        "  \n",
        "  return sum([(ind[g]-ind[g-1])*np.var(arr[ind[g-1]:ind[g]]) for \n",
        "                       g in range(1,G+1)])/len(y_arr)                       "
      ],
      "execution_count": null,
      "outputs": []
    },
    {
      "cell_type": "code",
      "metadata": {
        "id": "S7A2gflMad84"
      },
      "source": [
        "def mle(X,y,G):\n",
        "    '''\n",
        "    X: input, should be a numpy array\n",
        "    y: label\n",
        "    G: number of classes\n",
        "    output:\n",
        "    - mus: each row is a class mean\n",
        "    - S: common covariance matrix of class 1,2,..., G \n",
        "    '''\n",
        "    epsilon = 1e-5 # define epsilon to put r down to 0 if r < epsilon\n",
        "    n,p = X.shape[0], X.shape[1]\n",
        "\n",
        "    # Estimating class means    \n",
        "    mus = np.array([np.nanmean(X[y==g,:],axis=0) for g in range (G)]).T # so that each column is the mean of a class\n",
        " \n",
        "    S = np.diag([diag_term(i,X,y) for i in range(p)]) \n",
        "\n",
        "    for i in range(p):      \n",
        "      for j in range(i):\n",
        "        mat = X[:,[i,j]]\n",
        "\n",
        "        # drop rows with NA\n",
        "        idx = ~np.isnan(mat).any(axis=1)\n",
        "        mat, y_arr = mat[idx], y[idx]\n",
        "\n",
        "        _, counts = np.unique(y_arr, return_counts=True)\n",
        "        ind = np.insert(np.cumsum(counts), 0, 0)\n",
        "\n",
        "        m_g = counts\n",
        "\n",
        "        A = len(y_arr)\n",
        "        scaled_mat = [mat[ind[g-1]:ind[g],:]-mus[[i,j],g-1] for g in range(1,G+1)]\n",
        "    \n",
        "\n",
        "        q = lambda g: np.dot(scaled_mat[g][:,0],scaled_mat[g][:,0])\n",
        "        s11 = sum(map(q,range(G))) \n",
        "        q = lambda g: np.dot(scaled_mat[g][:,1],scaled_mat[g][:,1])\n",
        "        s22 = sum(map(q,range(G))) \n",
        "        d = lambda g: np.dot(scaled_mat[g][:,0],scaled_mat[g][:,1])\n",
        "        s12 = sum(map(d,range(G)))  \n",
        "\n",
        "        start_solve = time.time()\n",
        "        B = S[i,i]*S[j,j]*A - s22 * S[i,i] - s11 * S[j,j]\n",
        "        coefficient = [-A, s12, B, s12*S[i,i]*S[j,j]]\n",
        "        r = np.roots(coefficient)\n",
        "\n",
        "        r = r[abs(np.imag(r)) < epsilon]\n",
        "        r = np.real(r)\n",
        "        r[abs(r) < epsilon] = 0\n",
        "\n",
        "        if len(r)>1:\n",
        "          condi_var = S[j,j] - r**2/S[i,i]\n",
        "          eta = -A*np.log(condi_var)-(S[j,j]-2*r/S[i,i]*s12 +\n",
        "                                      r**2/S[i,i]**2*s11)/condi_var\n",
        "          # if condi_var <0 then eta = NA. in practice, it's impossible for cov to be negative\n",
        "          #  therefore, we drop NA elements of eta  \n",
        "          r = r[eta == max(eta[~np.isnan(eta)])]\n",
        "\n",
        "        if len(r) > 1:        \n",
        "            w = [m_g[g-1]*np.cov(mat[ind[g-1]:ind[g],], rowvar=False) for\n",
        "                 g in range(1,G+1)]\n",
        "            w = np.sum(w, axis = 0)   \n",
        "            r = r[np.abs(r-w[0,1]).argmin()] # select r that is closest to w[0,1] \n",
        "              \n",
        "        S[i,j] = S[j,i] = r\n",
        "    return [mus, S]"
      ],
      "execution_count": null,
      "outputs": []
    },
    {
      "cell_type": "markdown",
      "metadata": {
        "id": "IwG2bsDOOxls"
      },
      "source": [
        "### compute_err function \n",
        "  "
      ]
    },
    {
      "cell_type": "code",
      "metadata": {
        "id": "ZEAkkeS5IOOo"
      },
      "source": [
        "def err(mus, S, mus_est, S_est):\n",
        "  er = [np.linalg.norm(mus_est-mus)/mus.size,\n",
        "         np.linalg.norm(S_est.flatten()-S.flatten())/S.size]\n",
        "  return np.mean(er)  \n",
        "\n",
        "def generate_nan(Xtrain, missing_rate):\n",
        "  Xshape = Xtrain.shape\n",
        "  na_id = np.random.randint(0,Xtrain.size,round(missing_rate*Xtrain.size))\n",
        "  Xtr_nan = Xtrain.flatten()\n",
        "  Xtr_nan[na_id] = np.nan \n",
        "  return Xtr_nan.reshape(Xshape)"
      ],
      "execution_count": null,
      "outputs": []
    },
    {
      "cell_type": "markdown",
      "metadata": {
        "id": "xByWUzBf7OBY"
      },
      "source": [
        "### Algorithm to compute each method's error\n",
        "\n"
      ]
    },
    {
      "cell_type": "code",
      "metadata": {
        "id": "SPgUnlocQknQ"
      },
      "source": [
        "def compute_err_mforest(Xtrain, ytrain, G, missing_rate):  \n",
        "    Xtr_nan = generate_nan(Xtrain, missing_rate)\n",
        "    \n",
        "    scaler = StandardScaler()\n",
        "    scaler.fit(Xtr_nan)\n",
        "    Xtr_nan = scaler.transform(Xtr_nan)\n",
        "    Xtrain = scaler.transform(Xtrain)\n",
        "    \n",
        "    # estimate parameters from full data\n",
        "    mus = [np.mean(Xtrain[ytrain==g,:], axis=0) for g in np.arange(G)]\n",
        "    mus = np.asarray(mus) # each row is a mean of a class\n",
        "    S = [sum(ytrain==g)*np.cov(Xtrain[ytrain==g,:],rowvar =False) \n",
        "             for g in np.arange(G)]\n",
        "    S = np.sum(S, axis = 0)/len(ytrain)\n",
        "\n",
        "    start = time.time()\n",
        "    Xtr_mforest = MissForest(random_state=0).fit_transform(Xtr_nan)\n",
        "    mus_mforest = np.asarray([np.mean(Xtr_mforest[ytrain==g,:], axis=0\n",
        "                                         ) for g in np.arange(G)])\n",
        "    S_mforest = np.asarray([(sum(ytrain==g))*np.cov(Xtr_mforest[ytrain==g,:], rowvar =False) \n",
        "             for g in np.arange(G)])\n",
        "    S_mforest = np.sum(S_mforest, axis = 0)/len(ytrain)   \n",
        "    mforest_err =  err(mus, S, mus_mforest, S_mforest)\n",
        "    mforest_time = time.time()-start   \n",
        "    return mforest_err, mforest_time"
      ],
      "execution_count": null,
      "outputs": []
    },
    {
      "cell_type": "code",
      "metadata": {
        "id": "ulsAXCTO7Vg0"
      },
      "source": [
        "def compute_err_dper(Xtrain, ytrain, G, missing_rate):  \n",
        "    Xtr_nan = generate_nan(Xtrain, missing_rate)\n",
        "    \n",
        "    scaler = StandardScaler()\n",
        "    scaler.fit(Xtr_nan)\n",
        "    Xtr_nan = scaler.transform(Xtr_nan)\n",
        "    Xtrain = scaler.transform(Xtrain)\n",
        "    \n",
        "    #Sort dataset by y_train\n",
        "    arsort = ytrain.argsort()\n",
        "    ytrain = ytrain[arsort]\n",
        "    Xtrain = Xtrain[arsort]\n",
        "    Xtr_nan = Xtr_nan[arsort]\n",
        "    \n",
        "    #Find indices\n",
        "    _, counts = np.unique(ytrain, return_counts=True)\n",
        "    ind = np.insert(np.cumsum(counts), 0, 0)\n",
        "\n",
        "    mus = np.array([np.mean(Xtrain[ind[g-1]:ind[g]],axis=0) for g in range(1,G+1)])\n",
        "    S = [(ind[g]-ind[g-1])*np.cov(Xtrain[ind[g-1]:ind[g],:],rowvar = False) for g in range(1,G+1)]\n",
        "    S = np.sum(S, axis = 0)/len(ytrain)\n",
        "\n",
        "    # MLEs approach\n",
        "    start = time.time()\n",
        "    mus_mle, S_mle = mle(Xtr_nan,ytrain, G)\n",
        "    mle_err = err(mus, S, mus_mle.T, S_mle)\n",
        "    mle_time = time.time()-start\n",
        "    return mle_err, mle_time"
      ],
      "execution_count": null,
      "outputs": []
    },
    {
      "cell_type": "code",
      "metadata": {
        "id": "85Kfd2egBi7f"
      },
      "source": [
        "def compute_err_soft(Xtrain, ytrain, G, missing_rate):  \n",
        "    Xtr_nan = generate_nan(Xtrain, missing_rate)\n",
        "    \n",
        "    scaler = StandardScaler()\n",
        "    scaler.fit(Xtr_nan)\n",
        "    Xtr_nan = scaler.transform(Xtr_nan)\n",
        "    Xtrain = scaler.transform(Xtrain)\n",
        "    \n",
        "    # estimate parameters from full data\n",
        "    mus = [np.mean(Xtrain[ytrain==g,:], axis=0) for g in np.arange(G)]\n",
        "    mus = np.asarray(mus) # each row is a mean of a class\n",
        "    S = [sum(ytrain==g)*np.cov(Xtrain[ytrain==g,:],rowvar =False) \n",
        "             for g in np.arange(G)]\n",
        "    S = np.sum(S, axis = 0)/len(ytrain)\n",
        "\n",
        "    start = time.time()\n",
        "    Xtr_softimpute = SoftImpute(max_iters = 100).fit_transform(Xtr_nan)\n",
        "    mus_softimpute = np.asarray([np.mean(Xtr_softimpute[ytrain==g,:], axis=0\n",
        "                                         ) for g in np.arange(G)])\n",
        "    S_softimpute = np.asarray([(sum(ytrain==g))*np.cov(Xtr_softimpute[ytrain==g,:], rowvar =False) \n",
        "             for g in np.arange(G)])\n",
        "    S_softimpute = np.sum(S_softimpute, axis = 0)/len(ytrain)   \n",
        "    softimpute_err =  err(mus, S, mus_softimpute, S_softimpute)\n",
        "    softimpute_time = time.time()-start   \n",
        "    return softimpute_err, softimpute_time"
      ],
      "execution_count": null,
      "outputs": []
    },
    {
      "cell_type": "code",
      "metadata": {
        "id": "Oiq2g4u5GzD-"
      },
      "source": [
        "def compute_err_mice(Xtrain, ytrain, G, missing_rate):  \n",
        "    Xtr_nan = generate_nan(Xtrain, missing_rate)\n",
        "    \n",
        "    scaler = StandardScaler()\n",
        "    scaler.fit(Xtr_nan)\n",
        "    Xtr_nan = scaler.transform(Xtr_nan)\n",
        "    Xtrain = scaler.transform(Xtrain)\n",
        "    \n",
        "    # estimate parameters from full data\n",
        "    mus = [np.mean(Xtrain[ytrain==g,:], axis=0) for g in np.arange(G)]\n",
        "    mus = np.asarray(mus) # each row is a mean of a class\n",
        "    S = [sum(ytrain==g)*np.cov(Xtrain[ytrain==g,:],rowvar =False) \n",
        "             for g in np.arange(G)]\n",
        "    S = np.sum(S, axis = 0)/len(ytrain)\n",
        "\n",
        "    start = time.time()\n",
        "    Xtr_mice = IterativeImputer(max_iter=10).fit(Xtr_nan).transform(Xtr_nan)\n",
        "    mus_mice = np.asarray([np.mean(Xtr_mice[ytrain==g,:], axis=0\n",
        "                                   ) for g in np.arange(G)])\n",
        "    S_mice = np.asarray([(sum(ytrain==g))*np.cov(Xtr_mice[ytrain==g,:], rowvar =False) \n",
        "             for g in np.arange(G)])\n",
        "    S_mice = np.sum(S_mice, axis = 0)/len(ytrain)\n",
        "    mice_err = err(mus, S, mus_mice, S_mice)\n",
        "    mice_time = time.time()-start\n",
        "\n",
        "    return mice_err, mice_time"
      ],
      "execution_count": null,
      "outputs": []
    },
    {
      "cell_type": "code",
      "metadata": {
        "id": "05V293yIoD9H"
      },
      "source": [
        "def compute_err_nuclear(Xtrain, ytrain, G, missing_rate):  \n",
        "    Xtr_nan = generate_nan(Xtrain, missing_rate)\n",
        "    \n",
        "    scaler = StandardScaler()\n",
        "    scaler.fit(Xtr_nan)\n",
        "    Xtr_nan = scaler.transform(Xtr_nan)\n",
        "    Xtrain = scaler.transform(Xtrain)\n",
        "    \n",
        "    # estimate parameters from full data\n",
        "    mus = [np.mean(Xtrain[ytrain==g,:], axis=0) for g in np.arange(G)]\n",
        "    mus = np.asarray(mus) # each row is a mean of a class\n",
        "    S = [sum(ytrain==g)*np.cov(Xtrain[ytrain==g,:],rowvar =False) \n",
        "             for g in np.arange(G)]\n",
        "    S = np.sum(S, axis = 0)/len(ytrain)\n",
        "\n",
        "    start = time.time()\n",
        "    Xtr_nuclear = NuclearNormMinimization(max_iters=10).fit_transform(Xtr_nan)\n",
        "    mus_nuclear = np.asarray([np.mean(Xtr_nuclear[ytrain==g,:], axis=0\n",
        "                                      ) for g in np.arange(G)])\n",
        "    S_nuclear = np.asarray([(sum(ytrain==g))*np.cov(Xtr_nuclear[ytrain==g,:], rowvar =False) \n",
        "             for g in np.arange(G)])\n",
        "    S_nuclear = np.sum(S_nuclear, axis = 0)/len(ytrain)\n",
        "    nuclear_err = err(mus, S, mus_nuclear, S_nuclear)\n",
        "    nuclear_time = time.time()-start\n",
        "\n",
        "    return nuclear_err, nuclear_time"
      ],
      "execution_count": null,
      "outputs": []
    },
    {
      "cell_type": "markdown",
      "metadata": {
        "id": "5xsJ_-uc61V6"
      },
      "source": [
        "# MNIST"
      ]
    },
    {
      "cell_type": "code",
      "metadata": {
        "id": "i5jXMk4w64g3",
        "colab": {
          "base_uri": "https://localhost:8080/",
          "height": 222,
          "referenced_widgets": [
            "599b532d3b284f23962909ff05633e53",
            "7d90c9a50b1a49c4901663de2f1f93dc",
            "928dfbc6f8e740f4b852728feb972940",
            "08c0ba31702c4a06a6904f7762a91ebf",
            "98e23206868f4a76937f7c1b2121a755",
            "c65627d9ac3446dfa620232b626c2c61",
            "e6a60c1de78d476ca1a832cc6361e01f",
            "8d662a02105d4077920b16e0ea901f1f"
          ]
        },
        "outputId": "428f17ad-68b2-4ccf-d9c0-64e829bc594c"
      },
      "source": [
        "import tensorflow as tf\n",
        "import tensorflow_datasets as tfds\n",
        "\n",
        "# Fetch the dataset directly\n",
        "mnist = tfds.image.MNIST()\n",
        "# or by string name\n",
        "mnist = tfds.builder('mnist')\n",
        "\n",
        "# Download the data, prepare it, and write it to disk\n",
        "mnist.download_and_prepare()\n",
        "\n",
        "# Load data from disk as tf.data.Datasets\n",
        "datasets = mnist.as_dataset()\n",
        "train_dataset, test_dataset = datasets['train'], datasets['test']"
      ],
      "execution_count": null,
      "outputs": [
        {
          "output_type": "stream",
          "text": [
            "\u001b[1mDownloading and preparing dataset mnist/3.0.1 (download: 11.06 MiB, generated: 21.00 MiB, total: 32.06 MiB) to /root/tensorflow_datasets/mnist/3.0.1...\u001b[0m\n"
          ],
          "name": "stdout"
        },
        {
          "output_type": "stream",
          "text": [
            "WARNING:absl:Dataset mnist is hosted on GCS. It will automatically be downloaded to your\n",
            "local data directory. If you'd instead prefer to read directly from our public\n",
            "GCS bucket (recommended if you're running on GCP), you can instead pass\n",
            "`try_gcs=True` to `tfds.load` or set `data_dir=gs://tfds-data/datasets`.\n",
            "\n"
          ],
          "name": "stderr"
        },
        {
          "output_type": "display_data",
          "data": {
            "application/vnd.jupyter.widget-view+json": {
              "model_id": "599b532d3b284f23962909ff05633e53",
              "version_minor": 0,
              "version_major": 2
            },
            "text/plain": [
              "HBox(children=(FloatProgress(value=0.0, description='Dl Completed...', max=4.0, style=ProgressStyle(descriptio…"
            ]
          },
          "metadata": {
            "tags": []
          }
        },
        {
          "output_type": "stream",
          "text": [
            "\n",
            "\n",
            "\u001b[1mDataset mnist downloaded and prepared to /root/tensorflow_datasets/mnist/3.0.1. Subsequent calls will reuse this data.\u001b[0m\n"
          ],
          "name": "stdout"
        }
      ]
    },
    {
      "cell_type": "code",
      "metadata": {
        "colab": {
          "base_uri": "https://localhost:8080/"
        },
        "id": "nVra6Qm17GrY",
        "outputId": "a73a9312-210a-4520-9a1b-e10cd4d89b08"
      },
      "source": [
        "# convert the Dataset to NumPy arrays and flatten the data\n",
        "Xtrain, ytrain = [], []\n",
        "for example in tfds.as_numpy(train_dataset):\n",
        "  Xtrain.append(example['image'].flatten())\n",
        "  ytrain.append(example['label'])\n",
        "\n",
        "Xtrain, ytrain = np.asarray(Xtrain), np.asarray(ytrain)\n",
        "Xtrain = Xtrain.astype(float)\n",
        "\n",
        "# convert the test set to NumPy arrays and flatten the data\n",
        "Xtest, ytest = [], []\n",
        "for example in tfds.as_numpy(test_dataset):\n",
        "  Xtest.append(example['image'].flatten())\n",
        "  ytest.append(example['label'])\n",
        "\n",
        "Xtest, ytest = np.asarray(Xtest), np.asarray(ytest)\n",
        "Xtest = Xtest.astype(float)\n",
        "X = np.vstack((Xtrain,Xtest))\n",
        "y = np.hstack((ytrain,ytest))\n",
        "X.shape, y.shape\n",
        "# set random seed and shuffle the data\n",
        "np.random.seed(1)\n",
        "idx = np.arange(len(y))\n",
        "np.random.shuffle(idx)\n",
        "X, y = X[idx,:], y[idx]  \n",
        "\n",
        "X.shape, y.shape "
      ],
      "execution_count": null,
      "outputs": [
        {
          "output_type": "execute_result",
          "data": {
            "text/plain": [
              "((70000, 784), (70000,))"
            ]
          },
          "metadata": {
            "tags": []
          },
          "execution_count": 14
        }
      ]
    },
    {
      "cell_type": "code",
      "metadata": {
        "colab": {
          "base_uri": "https://localhost:8080/"
        },
        "id": "kVmXRgPs7auE",
        "outputId": "0f42d9c2-53ad-4424-ce22-12dcc674f32d"
      },
      "source": [
        "# check if a column is all 0\n",
        "id = [np.sum(Xtrain[:,i] != 0)>10 for i in range(28**2)]\n",
        "# number of columns that mostly zero\n",
        "print(28**2-np.sum(id))\n",
        "# number of columns that has at least more than 10 non-zero\n",
        "np.sum(id)\n",
        "X = X[:, id]"
      ],
      "execution_count": null,
      "outputs": [
        {
          "output_type": "stream",
          "text": [
            "135\n"
          ],
          "name": "stdout"
        }
      ]
    },
    {
      "cell_type": "markdown",
      "metadata": {
        "id": "gfX3NqcVR3Mj"
      },
      "source": [
        "## Mforest"
      ]
    },
    {
      "cell_type": "code",
      "metadata": {
        "id": "FvoaLKeMQknZ"
      },
      "source": [
        "# run from 10pm to 7:26 am giving no result on anything\n",
        "G = 10\n",
        "e20_mforest = compute_err_mforest(X, y, G, 0.2)\n",
        "e35_mforest = compute_err_mforest(X, y, G, 0.35)\n",
        "e50_mforest = compute_err_mforest(X, y, G, 0.5)\n",
        "e65_mforest = compute_err_mforest(X, y, G, 0.65)\n",
        "e80_mforest = compute_err_mforest(X, y, G, 0.8)"
      ],
      "execution_count": null,
      "outputs": []
    },
    {
      "cell_type": "markdown",
      "metadata": {
        "id": "uphxKDKZqiCb"
      },
      "source": [
        "## DPER"
      ]
    },
    {
      "cell_type": "code",
      "metadata": {
        "id": "WlONbQSa7lXN"
      },
      "source": [
        "G = 10\n",
        "e20_dper = compute_err_dper(X, y, G, 0.2)\n",
        "e35_dper = compute_err_dper(X, y, G, 0.35)\n",
        "e50_dper = compute_err_dper(X, y, G, 0.5)\n",
        "e65_dper = compute_err_dper(X, y, G, 0.65)\n",
        "e80_dper = compute_err_dper(X, y, G, 0.8)"
      ],
      "execution_count": null,
      "outputs": []
    },
    {
      "cell_type": "code",
      "metadata": {
        "colab": {
          "base_uri": "https://localhost:8080/"
        },
        "id": "LKriCp_gvP1X",
        "outputId": "35cb2a4f-e3e0-4833-996b-c66872143edb"
      },
      "source": [
        "# the left column is the error, the right column is the running time\n",
        "np.around(np.vstack((e20_dper,e35_dper,e50_dper,e65_dper,e80_dper)),5)"
      ],
      "execution_count": null,
      "outputs": [
        {
          "output_type": "execute_result",
          "data": {
            "text/plain": [
              "array([[3.63916429e-05, 1.19130595e+03],\n",
              "       [5.33728977e-05, 1.04944757e+03],\n",
              "       [6.49254235e-05, 9.21366784e+02],\n",
              "       [7.81930400e-05, 7.90778963e+02],\n",
              "       [9.57485857e-05, 6.95367604e+02]])"
            ]
          },
          "metadata": {
            "tags": []
          },
          "execution_count": 16
        }
      ]
    },
    {
      "cell_type": "markdown",
      "metadata": {
        "id": "ZDwhQvu3qbq7"
      },
      "source": [
        "## Soft impute"
      ]
    },
    {
      "cell_type": "code",
      "metadata": {
        "id": "jiuVnH_Cqm3D"
      },
      "source": [
        "e20_soft = compute_err_soft(X, y, G, 0.2)\n",
        "e35_soft = compute_err_soft(X, y, G, 0.35)\n",
        "e50_soft = compute_err_soft(X, y, G, 0.5)\n",
        "e65_soft = compute_err_soft(X, y, G, 0.65)\n",
        "e80_soft = compute_err_soft(X, y, G, 0.8)"
      ],
      "execution_count": null,
      "outputs": []
    },
    {
      "cell_type": "code",
      "metadata": {
        "id": "RszTm1TZQknc",
        "outputId": "e96116f0-6933-4bc5-e7cc-31c80b5844a6"
      },
      "source": [
        "# the left column is the error, the right column is the running time\n",
        "np.around(np.vstack((e20_soft, e35_soft,e50_soft,e65_soft,e80_soft)),5)"
      ],
      "execution_count": null,
      "outputs": [
        {
          "output_type": "execute_result",
          "data": {
            "text/plain": [
              "array([[5.20303022e-05, 1.65150407e+03],\n",
              "       [9.48033812e-05, 2.23346958e+03],\n",
              "       [1.45084518e-04, 2.91152380e+03],\n",
              "       [2.00383484e-04, 3.66444219e+03],\n",
              "       [2.89690177e-04, 4.27699971e+03]])"
            ]
          },
          "metadata": {
            "tags": []
          },
          "execution_count": 18
        }
      ]
    },
    {
      "cell_type": "markdown",
      "metadata": {
        "id": "xgqSNrcfrNHg"
      },
      "source": [
        "## MICE impute"
      ]
    },
    {
      "cell_type": "code",
      "metadata": {
        "id": "tA3uoIaCQknd"
      },
      "source": [
        "e20_mice = compute_err_mice(X, y, G, 0.2)"
      ],
      "execution_count": null,
      "outputs": []
    },
    {
      "cell_type": "code",
      "metadata": {
        "id": "_q-W2C4drk7S"
      },
      "source": [
        "np.around(e20_mice,5)"
      ],
      "execution_count": null,
      "outputs": []
    },
    {
      "cell_type": "code",
      "metadata": {
        "id": "8q7EYWVTrUpk"
      },
      "source": [
        "e35_mice = compute_err_mice(X, y, G, 0.35)"
      ],
      "execution_count": null,
      "outputs": []
    },
    {
      "cell_type": "code",
      "metadata": {
        "id": "x2K-cJthrjLS"
      },
      "source": [
        "np.around(e35_mice,5)"
      ],
      "execution_count": null,
      "outputs": []
    },
    {
      "cell_type": "code",
      "metadata": {
        "id": "BSlRNwedrUZv"
      },
      "source": [
        "e50_mice = compute_err_mice(X, y, G, 0.5)"
      ],
      "execution_count": null,
      "outputs": []
    },
    {
      "cell_type": "code",
      "metadata": {
        "id": "sYiX_UosrihE"
      },
      "source": [
        "np.around(e50_mice,5)"
      ],
      "execution_count": null,
      "outputs": []
    },
    {
      "cell_type": "code",
      "metadata": {
        "id": "YnbW-V8MrUHw"
      },
      "source": [
        "e65_mice = compute_err_mice(X, y, G, 0.65)"
      ],
      "execution_count": null,
      "outputs": []
    },
    {
      "cell_type": "code",
      "metadata": {
        "id": "nHUYtiIFrg_9"
      },
      "source": [
        "np.around(e65_mice,5)"
      ],
      "execution_count": null,
      "outputs": []
    },
    {
      "cell_type": "code",
      "metadata": {
        "id": "LH486ls_JCN0"
      },
      "source": [
        "e80_mice = compute_err_mice(X, y, G, 0.8)"
      ],
      "execution_count": null,
      "outputs": []
    },
    {
      "cell_type": "code",
      "metadata": {
        "id": "OYEL6nsMJG1j"
      },
      "source": [
        "np.around(e80_mice,5)"
      ],
      "execution_count": null,
      "outputs": []
    },
    {
      "cell_type": "markdown",
      "metadata": {
        "id": "0GUlQfcWrnKS"
      },
      "source": [
        "## Nuclear "
      ]
    },
    {
      "cell_type": "code",
      "metadata": {
        "id": "OY1h_vA1Qkni"
      },
      "source": [
        "#kernel dies\n",
        "e20_nuclear = compute_err_nuclear(X, y, G, 0.2)"
      ],
      "execution_count": null,
      "outputs": []
    },
    {
      "cell_type": "code",
      "metadata": {
        "id": "9H51dCe9sAyS"
      },
      "source": [
        "np.around(e20_nuclear,5)"
      ],
      "execution_count": null,
      "outputs": []
    },
    {
      "cell_type": "code",
      "metadata": {
        "id": "zXzDx1JBrrOy"
      },
      "source": [
        "e35_nuclear = compute_err_nuclear(X, y, G, 0.35)"
      ],
      "execution_count": null,
      "outputs": []
    },
    {
      "cell_type": "code",
      "metadata": {
        "id": "sxCcYbM6r_cF"
      },
      "source": [
        "np.around(e35_nuclear,5)"
      ],
      "execution_count": null,
      "outputs": []
    },
    {
      "cell_type": "code",
      "metadata": {
        "id": "PtkXcw5LrrCB"
      },
      "source": [
        "e50_nuclear = compute_err_nuclear(X, y, G, 0.5)"
      ],
      "execution_count": null,
      "outputs": []
    },
    {
      "cell_type": "code",
      "metadata": {
        "id": "FP9kWDq0r-zj"
      },
      "source": [
        "np.around(e50_nuclear,5)"
      ],
      "execution_count": null,
      "outputs": []
    },
    {
      "cell_type": "code",
      "metadata": {
        "id": "5FStzIBqrqzf"
      },
      "source": [
        "e65_nuclear = compute_err_nuclear(X, y, G, 0.65)"
      ],
      "execution_count": null,
      "outputs": []
    },
    {
      "cell_type": "code",
      "metadata": {
        "id": "Fc8KVmq4r9ZX"
      },
      "source": [
        "np.around(e65_nuclear,5)"
      ],
      "execution_count": null,
      "outputs": []
    },
    {
      "cell_type": "code",
      "metadata": {
        "id": "UVTKZDwxrqg-"
      },
      "source": [
        "e80_nuclear = compute_err_nuclear(X, y, G, 0.8)"
      ],
      "execution_count": null,
      "outputs": []
    },
    {
      "cell_type": "code",
      "metadata": {
        "id": "qfcVrefYoxnq"
      },
      "source": [
        "np.around(e80_nuclear,5)"
      ],
      "execution_count": null,
      "outputs": []
    }
  ]
}