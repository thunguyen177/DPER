{
 "cells": [
  {
   "cell_type": "markdown",
   "metadata": {
    "id": "01Q1wGI3uIdg"
   },
   "source": [
    "## libraries and function "
   ]
  },
  {
   "cell_type": "code",
   "execution_count": 1,
   "metadata": {
    "executionInfo": {
     "elapsed": 1163,
     "status": "ok",
     "timestamp": 1632582667809,
     "user": {
      "displayName": "Thu Nguyễn",
      "photoUrl": "https://lh3.googleusercontent.com/a-/AOh14GjaRl8WgKOjLdrEa69IqFm__Rq7udZ763hhFDl9=s64",
      "userId": "04714273295929622355"
     },
     "user_tz": -120
    },
    "id": "iEdO9dJPION8"
   },
   "outputs": [],
   "source": [
    "# !pip install impyute\n",
    "from sklearn import datasets\n",
    "from sklearn.preprocessing import LabelEncoder, StandardScaler\n",
    "# from sklearn.discriminant_analysis import LinearDiscriminantAnalysis as skLDA\n",
    "# from sklearn.experimental import enable_iterative_imputer\n",
    "# from sklearn.impute import IterativeImputer\n",
    "from scipy import stats\n",
    "import numpy as np\n",
    "# import impyute as impy\n",
    "import pandas as pd\n",
    "import time \n",
    "# !pip install missingpy\n",
    "# from missingpy import MissForest\n",
    "import math"
   ]
  },
  {
   "cell_type": "markdown",
   "metadata": {
    "id": "m3vq-1cfXt_i"
   },
   "source": [
    "RESI"
   ]
  },
  {
   "cell_type": "code",
   "execution_count": 2,
   "metadata": {
    "executionInfo": {
     "elapsed": 12,
     "status": "ok",
     "timestamp": 1632582667811,
     "user": {
      "displayName": "Thu Nguyễn",
      "photoUrl": "https://lh3.googleusercontent.com/a-/AOh14GjaRl8WgKOjLdrEa69IqFm__Rq7udZ763hhFDl9=s64",
      "userId": "04714273295929622355"
     },
     "user_tz": -120
    },
    "id": "PmrjuRLZXta-"
   },
   "outputs": [],
   "source": [
    "def compute_attribute_weights(A):\n",
    "  from sklearn.preprocessing import minmax_scale\n",
    "  y = minmax_scale(A, axis = 0)\n",
    "  p = y.copy()\n",
    "  ysum = y.sum(axis = 0)\n",
    "  for i in range(y.shape[1]):\n",
    "    if (ysum[i] == 0):\n",
    "      p[:, i] = 1\n",
    "    else:\n",
    "      p[:, i] = y[:, i] / ysum[i]\n",
    "  from scipy.special import xlogy\n",
    "  E = - xlogy(p,p).sum(axis=0) / math.log(p.shape[0])\n",
    "  w = (1 - E)/(len(E) - E.sum())\n",
    "  if np.isnan(w).any():\n",
    "    return None\n",
    "  else:\n",
    "    return w                                            \n",
    "def generate_tuple_partition(CT, ICT, m):\n",
    "  w = compute_attribute_weights(CT)\n",
    "  r = np.ones(ICT.shape[0])\n",
    "  for i in range(ICT.shape[0]):\n",
    "    for j in range(ICT.shape[1]):\n",
    "      if np.isnan(ICT[i,j]):\n",
    "        r[i] -= w[j] #If NoneType then insufficient CT set has been used\n",
    "  ICT = ICT[r.argsort()[::-1],:]\n",
    "  return np.array_split(ICT, m)\n",
    "def resi(Xtr_nan, m, n_neighbors):\n",
    "  CT = [Xtr_nan[~np.isnan(Xtr_nan).any(axis=1)]]\n",
    "  Tp = []\n",
    "  T = generate_tuple_partition(CT[0],Xtr_nan[np.isnan(Xtr_nan).any(axis=1)], m)\n",
    "  from sklearn.impute import KNNImputer\n",
    "  for i in range(m):\n",
    "    imputer = KNNImputer(n_neighbors=n_neighbors)\n",
    "    imputer.fit(CT[-1])\n",
    "    Tp.append(imputer.transform(T[i]))\n",
    "    CT.append(np.concatenate((CT[-1],Tp[-1])))\n",
    "  Tpp = []\n",
    "  for i in range(m):\n",
    "    train = CT[0]\n",
    "    for j in range(1,m):\n",
    "      if j != i:\n",
    "        train = np.concatenate((train,T[j]))\n",
    "    imputer = KNNImputer(n_neighbors=n_neighbors)\n",
    "    imputer.fit(train)\n",
    "    Tpp.append(imputer.transform(T[i]))\n",
    "  imputer = KNNImputer(n_neighbors=n_neighbors)\n",
    "  imputer.fit(CT[0])\n",
    "  Tpp.append(imputer.transform(T[m-1]))\n",
    "  CT = [CT[0]]\n",
    "  for i in range(m):\n",
    "    CT.append(np.concatenate((CT[-1],np.mean(np.array([Tp[i], Tpp[i]]), axis=0 ))))\n",
    "  return CT[-1]"
   ]
  },
  {
   "cell_type": "markdown",
   "metadata": {
    "id": "IwG2bsDOOxls"
   },
   "source": [
    "### compute_err function "
   ]
  },
  {
   "cell_type": "code",
   "execution_count": 7,
   "metadata": {
    "executionInfo": {
     "elapsed": 8,
     "status": "ok",
     "timestamp": 1632582740098,
     "user": {
      "displayName": "Thu Nguyễn",
      "photoUrl": "https://lh3.googleusercontent.com/a-/AOh14GjaRl8WgKOjLdrEa69IqFm__Rq7udZ763hhFDl9=s64",
      "userId": "04714273295929622355"
     },
     "user_tz": -120
    },
    "id": "ZEAkkeS5IOOo"
   },
   "outputs": [],
   "source": [
    "def err(mus, S, mus_est, S_est):\n",
    "  er = [np.linalg.norm(mus_est-mus)/mus.size,\n",
    "         np.linalg.norm(S_est.flatten()-S.flatten())/S.size]\n",
    "  return np.mean(er) \n",
    " \n",
    "def generate_nan(Xtrain,ytr, missing_rate):\n",
    "  minimum_complete_samples = 3\n",
    "  ct_id = np.random.choice(range(Xtrain.shape[0]), size = minimum_complete_samples, replace = False)\n",
    "  CT = Xtrain[ct_id]\n",
    "  ICT = Xtrain[[i for i in range(Xtrain.shape[0]) if i not in ct_id]]\n",
    "  ICTshape = ICT.shape\n",
    "  na_id = np.random.randint(0,ICT.size, round(missing_rate*ICT.size))\n",
    "  ICT = ICT.flatten()\n",
    "  ICT[na_id] = np.nan\n",
    "  xxx = np.concatenate((CT,ICT.reshape(ICTshape)))\n",
    "  ytrain = np.hstack((ytr[ct_id], np.array([ytr[i] for i in range(Xtrain.shape[0]) if i not in ct_id])))\n",
    "  return xxx, ytrain\n",
    " \n",
    "def compute_err_resi(Xtrain, ytrain, G, missing_rate, runs = 10):  \n",
    "  e_rate = []\n",
    "  running_time = []\n",
    "  for i in  range(runs):  \n",
    "    Xtr_nan, ytrain = generate_nan(Xtrain, ytrain, missing_rate)\n",
    "    \n",
    "    scaler = StandardScaler()\n",
    "    scaler.fit(Xtr_nan)\n",
    "    Xtr_nan = scaler.transform(Xtr_nan)\n",
    "    Xtrain = scaler.transform(Xtrain)\n",
    "    \n",
    "    # estimate parameters from full data\n",
    "    mus = [np.mean(Xtrain[ytrain==g,:], axis=0) for g in np.arange(G)]\n",
    "    mus = np.asarray(mus) # each row is a mean of a class\n",
    "    S = [sum(ytrain==g)*np.cov(Xtrain[ytrain==g,:],rowvar =False) \n",
    "             for g in np.arange(G)]\n",
    "    S = np.sum(S, axis = 0)/len(ytrain)\n",
    " \n",
    "    #RESI approach\n",
    "    start = time.time()\n",
    "    k = round(math.sqrt(len(np.unique(ytrain))))\n",
    "    if (k%2 == 0):\n",
    "      k += 1\n",
    "    Xtr_resi = resi(Xtr_nan, 3, k) #Parameters: (Dataset, m, n_neighbors) \n",
    "    mus_resi = np.asarray([np.mean(Xtr_resi[ytrain==g,:], axis=0\n",
    "                                   ) for g in np.arange(G)])\n",
    "    S_resi = np.asarray([(sum(ytrain==g))*np.cov(Xtr_resi[ytrain==g,:], rowvar = False) \n",
    "             for g in np.arange(G)])\n",
    "    S_resi = np.sum(S_resi, axis = 0)/len(ytrain) \n",
    "    resi_err = err(mus, S, mus_resi, S_resi)\n",
    "    resi_time = time.time()-start\n",
    "    running_time.append(resi_time)\n",
    "    e_rate.append(resi_err)\n",
    "  e_rate = np.asarray(e_rate)\n",
    "  running_time = np.asarray(running_time)\n",
    "  return np.mean(e_rate), np.std(e_rate) , np.mean(running_time)     "
   ]
  },
  {
   "cell_type": "markdown",
   "metadata": {
    "id": "JE_FulEEAamU"
   },
   "source": [
    "# Digits"
   ]
  },
  {
   "cell_type": "code",
   "execution_count": 8,
   "metadata": {
    "colab": {
     "base_uri": "https://localhost:8080/"
    },
    "executionInfo": {
     "elapsed": 334,
     "status": "ok",
     "timestamp": 1632582763290,
     "user": {
      "displayName": "Thu Nguyễn",
      "photoUrl": "https://lh3.googleusercontent.com/a-/AOh14GjaRl8WgKOjLdrEa69IqFm__Rq7udZ763hhFDl9=s64",
      "userId": "04714273295929622355"
     },
     "user_tz": -120
    },
    "id": "VtzYeUdYw4G6",
    "outputId": "d19e9a53-b640-4103-d185-c7bdbd0de33b"
   },
   "outputs": [
    {
     "name": "stdout",
     "output_type": "stream",
     "text": [
      "(1797, 64)\n"
     ]
    },
    {
     "data": {
      "text/plain": [
       "(1797, 54)"
      ]
     },
     "execution_count": 8,
     "metadata": {},
     "output_type": "execute_result"
    }
   ],
   "source": [
    "digits = datasets.load_digits()\n",
    "X,y = digits.data, digits.target.ravel() \n",
    "print(X.shape)\n",
    "rmid = np.where(sum(X!=0)<10)\n",
    "X = np.delete(X, rmid,axis = 1)\n",
    "X.shape"
   ]
  },
  {
   "cell_type": "code",
   "execution_count": 9,
   "metadata": {
    "colab": {
     "base_uri": "https://localhost:8080/"
    },
    "executionInfo": {
     "elapsed": 118906,
     "status": "ok",
     "timestamp": 1632582964113,
     "user": {
      "displayName": "Thu Nguyễn",
      "photoUrl": "https://lh3.googleusercontent.com/a-/AOh14GjaRl8WgKOjLdrEa69IqFm__Rq7udZ763hhFDl9=s64",
      "userId": "04714273295929622355"
     },
     "user_tz": -120
    },
    "id": "hnCXezQIJZPl",
    "outputId": "0e673c1b-d200-4fe2-acd4-f41f810300f8"
   },
   "outputs": [
    {
     "data": {
      "text/plain": [
       "array([[3.000e-03, 1.000e-03, 7.060e-01],\n",
       "       [3.000e-03, 1.000e-03, 9.000e-01],\n",
       "       [4.000e-03, 1.000e-03, 1.013e+00],\n",
       "       [4.000e-03, 0.000e+00, 1.084e+00],\n",
       "       [4.000e-03, 1.000e-03, 1.262e+00]])"
      ]
     },
     "execution_count": 9,
     "metadata": {},
     "output_type": "execute_result"
    }
   ],
   "source": [
    "G = 10\n",
    "resi_err = np.array([compute_err_resi(X, y, G, .2, runs = 10),\n",
    "                    compute_err_resi(X, y, G, .35, runs = 10),\n",
    "                    compute_err_resi(X, y, G, .5, runs = 10),\n",
    "                    compute_err_resi(X, y, G, .65, runs = 10),\n",
    "                    compute_err_resi(X, y, G, .8, runs = 10)])\n",
    "resi_err.round(3)"
   ]
  },
  {
   "cell_type": "code",
   "execution_count": null,
   "metadata": {},
   "outputs": [],
   "source": []
  }
 ],
 "metadata": {
  "colab": {
   "collapsed_sections": [],
   "name": "assuming equal covariance Digits RESI.ipynb",
   "provenance": [
    {
     "file_id": "1xKp_k9_rmArWqT_UcIFBuWukG_jHnCVY",
     "timestamp": 1613916983415
    },
    {
     "file_id": "1eazQvNk_WLTaG8heDoHQ3AgEg59y9f0v",
     "timestamp": 1608824112061
    },
    {
     "file_id": "126-leKywWg1oVxbfuH1_ORl8UMYHusn_",
     "timestamp": 1591364956450
    },
    {
     "file_id": "1Lb-WwE7STckIojvf1h3ADYX29-gfA6u-",
     "timestamp": 1590379038322
    },
    {
     "file_id": "1CnbOqwmJydQa8uCCpIR6HRVxw0YnveIP",
     "timestamp": 1590113304994
    }
   ]
  },
  "kernelspec": {
   "display_name": "Python 3 (ipykernel)",
   "language": "python",
   "name": "python3"
  },
  "language_info": {
   "codemirror_mode": {
    "name": "ipython",
    "version": 3
   },
   "file_extension": ".py",
   "mimetype": "text/x-python",
   "name": "python",
   "nbconvert_exporter": "python",
   "pygments_lexer": "ipython3",
   "version": "3.9.7"
  }
 },
 "nbformat": 4,
 "nbformat_minor": 1
}
