{
 "cells": [
  {
   "cell_type": "markdown",
   "metadata": {
    "id": "01Q1wGI3uIdg"
   },
   "source": [
    "## libraries and function "
   ]
  },
  {
   "cell_type": "code",
   "execution_count": 1,
   "metadata": {
    "colab": {
     "base_uri": "https://localhost:8080/"
    },
    "collapsed": true,
    "executionInfo": {
     "elapsed": 6487,
     "status": "ok",
     "timestamp": 1632373644828,
     "user": {
      "displayName": "Khôi Nguyễn Duy Minh",
      "photoUrl": "https://lh3.googleusercontent.com/a-/AOh14Gi2oRzIWF8dpjtWlBbjqajP4dXwJ8IlXjzY2_ws=s64",
      "userId": "05400918452609541741"
     },
     "user_tz": -420
    },
    "id": "iEdO9dJPION8",
    "outputId": "c2b503b9-3bd7-4397-928c-3b3a4003b53d"
   },
   "outputs": [
    {
     "ename": "ModuleNotFoundError",
     "evalue": "No module named 'sklearn.neighbors.base'",
     "output_type": "error",
     "traceback": [
      "\u001b[1;31m---------------------------------------------------------------------------\u001b[0m",
      "\u001b[1;31mModuleNotFoundError\u001b[0m                       Traceback (most recent call last)",
      "\u001b[1;32m~\\AppData\\Local\\Temp/ipykernel_20696/2874397436.py\u001b[0m in \u001b[0;36m<module>\u001b[1;34m\u001b[0m\n\u001b[0;32m      9\u001b[0m \u001b[1;32mimport\u001b[0m \u001b[0mpandas\u001b[0m \u001b[1;32mas\u001b[0m \u001b[0mpd\u001b[0m\u001b[1;33m\u001b[0m\u001b[1;33m\u001b[0m\u001b[0m\n\u001b[0;32m     10\u001b[0m \u001b[1;32mimport\u001b[0m \u001b[0mtime\u001b[0m\u001b[1;33m\u001b[0m\u001b[1;33m\u001b[0m\u001b[0m\n\u001b[1;32m---> 11\u001b[1;33m \u001b[1;32mfrom\u001b[0m \u001b[0mmissingpy\u001b[0m \u001b[1;32mimport\u001b[0m \u001b[0mMissForest\u001b[0m\u001b[1;33m\u001b[0m\u001b[1;33m\u001b[0m\u001b[0m\n\u001b[0m\u001b[0;32m     12\u001b[0m \u001b[1;32mimport\u001b[0m \u001b[0mmath\u001b[0m\u001b[1;33m\u001b[0m\u001b[1;33m\u001b[0m\u001b[0m\n",
      "\u001b[1;32m~\\.conda\\envs\\tf\\lib\\site-packages\\missingpy\\__init__.py\u001b[0m in \u001b[0;36m<module>\u001b[1;34m\u001b[0m\n\u001b[1;32m----> 1\u001b[1;33m \u001b[1;32mfrom\u001b[0m \u001b[1;33m.\u001b[0m\u001b[0mknnimpute\u001b[0m \u001b[1;32mimport\u001b[0m \u001b[0mKNNImputer\u001b[0m\u001b[1;33m\u001b[0m\u001b[1;33m\u001b[0m\u001b[0m\n\u001b[0m\u001b[0;32m      2\u001b[0m \u001b[1;32mfrom\u001b[0m \u001b[1;33m.\u001b[0m\u001b[0mmissforest\u001b[0m \u001b[1;32mimport\u001b[0m \u001b[0mMissForest\u001b[0m\u001b[1;33m\u001b[0m\u001b[1;33m\u001b[0m\u001b[0m\n\u001b[0;32m      3\u001b[0m \u001b[1;33m\u001b[0m\u001b[0m\n\u001b[0;32m      4\u001b[0m \u001b[0m__all__\u001b[0m \u001b[1;33m=\u001b[0m \u001b[1;33m[\u001b[0m\u001b[1;34m'KNNImputer'\u001b[0m\u001b[1;33m,\u001b[0m \u001b[1;34m'MissForest'\u001b[0m\u001b[1;33m]\u001b[0m\u001b[1;33m\u001b[0m\u001b[1;33m\u001b[0m\u001b[0m\n",
      "\u001b[1;32m~\\.conda\\envs\\tf\\lib\\site-packages\\missingpy\\knnimpute.py\u001b[0m in \u001b[0;36m<module>\u001b[1;34m\u001b[0m\n\u001b[0;32m     11\u001b[0m \u001b[1;32mfrom\u001b[0m \u001b[0msklearn\u001b[0m\u001b[1;33m.\u001b[0m\u001b[0mutils\u001b[0m\u001b[1;33m.\u001b[0m\u001b[0mvalidation\u001b[0m \u001b[1;32mimport\u001b[0m \u001b[0mcheck_is_fitted\u001b[0m\u001b[1;33m\u001b[0m\u001b[1;33m\u001b[0m\u001b[0m\n\u001b[0;32m     12\u001b[0m \u001b[1;32mfrom\u001b[0m \u001b[0msklearn\u001b[0m\u001b[1;33m.\u001b[0m\u001b[0mutils\u001b[0m\u001b[1;33m.\u001b[0m\u001b[0mvalidation\u001b[0m \u001b[1;32mimport\u001b[0m \u001b[0mFLOAT_DTYPES\u001b[0m\u001b[1;33m\u001b[0m\u001b[1;33m\u001b[0m\u001b[0m\n\u001b[1;32m---> 13\u001b[1;33m \u001b[1;32mfrom\u001b[0m \u001b[0msklearn\u001b[0m\u001b[1;33m.\u001b[0m\u001b[0mneighbors\u001b[0m\u001b[1;33m.\u001b[0m\u001b[0mbase\u001b[0m \u001b[1;32mimport\u001b[0m \u001b[0m_check_weights\u001b[0m\u001b[1;33m\u001b[0m\u001b[1;33m\u001b[0m\u001b[0m\n\u001b[0m\u001b[0;32m     14\u001b[0m \u001b[1;32mfrom\u001b[0m \u001b[0msklearn\u001b[0m\u001b[1;33m.\u001b[0m\u001b[0mneighbors\u001b[0m\u001b[1;33m.\u001b[0m\u001b[0mbase\u001b[0m \u001b[1;32mimport\u001b[0m \u001b[0m_get_weights\u001b[0m\u001b[1;33m\u001b[0m\u001b[1;33m\u001b[0m\u001b[0m\n\u001b[0;32m     15\u001b[0m \u001b[1;33m\u001b[0m\u001b[0m\n",
      "\u001b[1;31mModuleNotFoundError\u001b[0m: No module named 'sklearn.neighbors.base'"
     ]
    }
   ],
   "source": [
    "from sklearn import datasets\n",
    "from sklearn.preprocessing import LabelEncoder, StandardScaler\n",
    "from sklearn.discriminant_analysis import LinearDiscriminantAnalysis as skLDA\n",
    "from sklearn.experimental import enable_iterative_imputer\n",
    "from sklearn.impute import IterativeImputer\n",
    "from scipy import stats\n",
    "import numpy as np\n",
    "import impyute as impy\n",
    "import pandas as pd\n",
    "import time \n",
    "# from missingpy import MissForest\n",
    "import math"
   ]
  },
  {
   "cell_type": "markdown",
   "metadata": {
    "id": "m3vq-1cfXt_i"
   },
   "source": [
    "RESI"
   ]
  },
  {
   "cell_type": "code",
   "execution_count": 2,
   "metadata": {
    "executionInfo": {
     "elapsed": 26,
     "status": "ok",
     "timestamp": 1632373644829,
     "user": {
      "displayName": "Khôi Nguyễn Duy Minh",
      "photoUrl": "https://lh3.googleusercontent.com/a-/AOh14Gi2oRzIWF8dpjtWlBbjqajP4dXwJ8IlXjzY2_ws=s64",
      "userId": "05400918452609541741"
     },
     "user_tz": -420
    },
    "id": "PmrjuRLZXta-"
   },
   "outputs": [],
   "source": [
    "def compute_attribute_weights(A):\n",
    "  from sklearn.preprocessing import minmax_scale\n",
    "  y = minmax_scale(A, axis = 0)\n",
    "  p = y.copy()\n",
    "  ysum = y.sum(axis = 0)\n",
    "  for i in range(y.shape[1]):\n",
    "    if (ysum[i] == 0):\n",
    "      p[:, i] = 1\n",
    "    else:\n",
    "      p[:, i] = y[:, i] / ysum[i]\n",
    "  from scipy.special import xlogy\n",
    "  E = - xlogy(p,p).sum(axis=0) / math.log(p.shape[0])\n",
    "  w = (1 - E)/(len(E) - E.sum())\n",
    "  if np.isnan(w).any():\n",
    "    return None\n",
    "  else:\n",
    "    return w                                            \n",
    "def generate_tuple_partition(CT, ICT, m):\n",
    "  w = compute_attribute_weights(CT)\n",
    "  r = np.ones(ICT.shape[0])\n",
    "  for i in range(ICT.shape[0]):\n",
    "    for j in range(ICT.shape[1]):\n",
    "      if np.isnan(ICT[i,j]):\n",
    "        r[i] -= w[j] #If NoneType then insufficient CT set has been used\n",
    "  ICT = ICT[r.argsort()[::-1],:]\n",
    "  return np.array_split(ICT, m)\n",
    "def resi(Xtr_nan, m, n_neighbors):\n",
    "  CT = [Xtr_nan[~np.isnan(Xtr_nan).any(axis=1)]]\n",
    "  Tp = []\n",
    "  T = generate_tuple_partition(CT[0],Xtr_nan[np.isnan(Xtr_nan).any(axis=1)], m)\n",
    "  from sklearn.impute import KNNImputer\n",
    "  for i in range(m):\n",
    "    imputer = KNNImputer(n_neighbors=n_neighbors)\n",
    "    imputer.fit(CT[-1])\n",
    "    Tp.append(imputer.transform(T[i]))\n",
    "    CT.append(np.concatenate((CT[-1],Tp[-1])))\n",
    "  Tpp = []\n",
    "  for i in range(m):\n",
    "    train = CT[0]\n",
    "    for j in range(1,m):\n",
    "      if j != i:\n",
    "        train = np.concatenate((train,T[j]))\n",
    "    imputer = KNNImputer(n_neighbors=n_neighbors)\n",
    "    imputer.fit(train)\n",
    "    Tpp.append(imputer.transform(T[i]))\n",
    "  imputer = KNNImputer(n_neighbors=n_neighbors)\n",
    "  imputer.fit(CT[0])\n",
    "  Tpp.append(imputer.transform(T[m-1]))\n",
    "  CT = [CT[0]]\n",
    "  for i in range(m):\n",
    "    CT.append(np.concatenate((CT[-1],np.mean(np.array([Tp[i], Tpp[i]]), axis=0 ))))\n",
    "  return CT[-1]"
   ]
  },
  {
   "cell_type": "markdown",
   "metadata": {
    "id": "IwG2bsDOOxls"
   },
   "source": [
    "### compute_err function "
   ]
  },
  {
   "cell_type": "code",
   "execution_count": 3,
   "metadata": {
    "executionInfo": {
     "elapsed": 25,
     "status": "ok",
     "timestamp": 1632373644830,
     "user": {
      "displayName": "Khôi Nguyễn Duy Minh",
      "photoUrl": "https://lh3.googleusercontent.com/a-/AOh14Gi2oRzIWF8dpjtWlBbjqajP4dXwJ8IlXjzY2_ws=s64",
      "userId": "05400918452609541741"
     },
     "user_tz": -420
    },
    "id": "ZEAkkeS5IOOo"
   },
   "outputs": [],
   "source": [
    "def err(mus, S, mus_est, S_est):\n",
    "  er = [np.linalg.norm(mus_est-mus)/mus.size,\n",
    "        np.linalg.norm(S_est.flatten().flatten()-S.flatten())/S.size]  \n",
    "  return np.mean(er)  \n",
    " \n",
    "def generate_nan(Xtrain,ytr, missing_rate):\n",
    "  minimum_complete_samples = 3\n",
    "  ct_id = np.random.choice(range(Xtrain.shape[0]), size = minimum_complete_samples, replace = False)\n",
    "  CT = Xtrain[ct_id]\n",
    "  ICT = Xtrain[[i for i in range(Xtrain.shape[0]) if i not in ct_id]]\n",
    "  ICTshape = ICT.shape\n",
    "  na_id = np.random.randint(0,ICT.size, round(missing_rate*ICT.size))\n",
    "  ICT = ICT.flatten()\n",
    "  ICT[na_id] = np.nan\n",
    "  xxx = np.concatenate((CT,ICT.reshape(ICTshape)))\n",
    "  ytrain = np.hstack((ytr[ct_id], np.array([ytr[i] for i in range(Xtrain.shape[0]) if i not in ct_id])))\n",
    "  return xxx, ytrain\n",
    " \n",
    "def compute_err_resi(Xtrain, ytrain, G, missing_rate, runs = 10):  \n",
    "  e_rate = []\n",
    "  for i in range(runs):\n",
    "    Xtr_nan, ytrain = generate_nan(Xtrain, ytrain, missing_rate)\n",
    "    scaler = StandardScaler()\n",
    "    scaler.fit(Xtr_nan)\n",
    "    Xtr_nan = scaler.transform(Xtr_nan)\n",
    "    Xtrain = scaler.transform(Xtrain)\n",
    "    # estimate parameters from full data\n",
    "    # each row is a mean of a class\n",
    "    mus = np.array([np.mean(Xtrain[ytrain==g,:], axis=0) for g in np.arange(G)])\n",
    "    S = np.array([np.cov(Xtrain[ytrain==g,:],rowvar =False) \n",
    "             for g in np.arange(G)])\n",
    "    #RESI approach\n",
    "    start = time.time()\n",
    "    k = round(math.sqrt(len(np.unique(ytrain))))\n",
    "    if (k%2 == 0):\n",
    "      k += 1\n",
    "    Xtr_resi = resi(Xtr_nan, 3, k) #Parameters: (Dataset, m, n_neighbors) \n",
    "    mus_resi = np.asarray([np.mean(Xtr_resi[ytrain==g,:], axis=0) for g in np.arange(G)])\n",
    "    S_resi = np.asarray([(sum(ytrain==g))*np.cov(Xtr_resi[ytrain==g,:], rowvar =False)\n",
    "             for g in np.arange(G)]) \n",
    "    resi_err = err(mus, S, mus_resi, S_resi)\n",
    "    resi_time = time.time()-start\n",
    "    e_rate.append(resi_err)\n",
    "  e_rate = np.asarray(e_rate)\n",
    "  return np.mean(e_rate), np.std(e_rate)"
   ]
  },
  {
   "cell_type": "markdown",
   "metadata": {
    "id": "3JQLPHTssNmc"
   },
   "source": [
    "# Heart"
   ]
  },
  {
   "cell_type": "code",
   "execution_count": 4,
   "metadata": {
    "colab": {
     "base_uri": "https://localhost:8080/"
    },
    "executionInfo": {
     "elapsed": 856,
     "status": "ok",
     "timestamp": 1632373645662,
     "user": {
      "displayName": "Khôi Nguyễn Duy Minh",
      "photoUrl": "https://lh3.googleusercontent.com/a-/AOh14Gi2oRzIWF8dpjtWlBbjqajP4dXwJ8IlXjzY2_ws=s64",
      "userId": "05400918452609541741"
     },
     "user_tz": -420
    },
    "id": "f0E1167HsOu1",
    "outputId": "8f27ef4f-a77c-48fe-f150-4ac5bdbef2c7"
   },
   "outputs": [
    {
     "name": "stdout",
     "output_type": "stream",
     "text": [
      "   0   1   2   3   4   5   6   7   8   9   ...  35  36  37  38  39  40  41  \\\n",
      "0   1  59  52  70  67  73  66  72  61  58  ...  66  56  62  56  72  62  74   \n",
      "1   1  72  62  69  67  78  82  74  65  69  ...  65  71  63  60  69  73  67   \n",
      "2   1  71  62  70  64  67  64  79  65  70  ...  73  70  66  65  64  55  61   \n",
      "3   1  69  71  70  78  61  63  67  65  59  ...  61  61  66  65  72  73  68   \n",
      "4   1  70  66  61  66  61  58  69  69  72  ...  67  69  70  66  70  64  60   \n",
      "\n",
      "   42  43  44  \n",
      "0  74  64  67  \n",
      "1  71  56  58  \n",
      "2  41  51  46  \n",
      "3  68  59  63  \n",
      "4  55  49  41  \n",
      "\n",
      "[5 rows x 45 columns]\n",
      "(267, 44)\n",
      "55\n",
      "212\n"
     ]
    }
   ],
   "source": [
    "data = pd.read_table('https://archive.ics.uci.edu/ml/machine-learning-databases/spect/SPECTF.train', header = None,sep=',')\n",
    "print(data.head())\n",
    "test = pd.read_table('https://archive.ics.uci.edu/ml/machine-learning-databases/spect/SPECTF.test',\n",
    "                     header=None, sep = ',')\n",
    "data = pd.concat([data, test])\n",
    "data = data.to_numpy()\n",
    "X,y = data[:,1:], data[:,0]\n",
    "X = X.astype(np.float32)\n",
    "G = len(np.unique(y)) \n",
    "print(np.shape(X))\n",
    "for g in range(G):\n",
    "  print(sum(y==g))"
   ]
  },
  {
   "cell_type": "code",
   "execution_count": 6,
   "metadata": {
    "colab": {
     "base_uri": "https://localhost:8080/"
    },
    "executionInfo": {
     "elapsed": 11133,
     "status": "ok",
     "timestamp": 1632373656788,
     "user": {
      "displayName": "Khôi Nguyễn Duy Minh",
      "photoUrl": "https://lh3.googleusercontent.com/a-/AOh14Gi2oRzIWF8dpjtWlBbjqajP4dXwJ8IlXjzY2_ws=s64",
      "userId": "05400918452609541741"
     },
     "user_tz": -420
    },
    "id": "jBWeap5BsjHu",
    "outputId": "8ec9ceea-142a-44d6-b8ea-0d992595c6e0"
   },
   "outputs": [
    {
     "data": {
      "text/plain": [
       "array([[0.432, 0.021],\n",
       "       [0.389, 0.018],\n",
       "       [0.346, 0.015],\n",
       "       [0.3  , 0.026],\n",
       "       [0.264, 0.022]])"
      ]
     },
     "execution_count": 6,
     "metadata": {},
     "output_type": "execute_result"
    }
   ],
   "source": [
    "import math\n",
    "resi_err = np.array([compute_err_resi(X, y, G, .2, runs = 10),\n",
    "                    compute_err_resi(X, y, G, .35, runs = 10),\n",
    "                    compute_err_resi(X, y, G, .5, runs = 10),\n",
    "                    compute_err_resi(X, y, G, .65, runs = 10),\n",
    "                    compute_err_resi(X, y, G, .8, runs = 10)])\n",
    "resi_err.round(3)"
   ]
  },
  {
   "cell_type": "markdown",
   "metadata": {
    "id": "nAz9dbKRRcRb"
   },
   "source": [
    "\n",
    "# Inosphere"
   ]
  },
  {
   "cell_type": "code",
   "execution_count": 7,
   "metadata": {
    "colab": {
     "base_uri": "https://localhost:8080/"
    },
    "executionInfo": {
     "elapsed": 472,
     "status": "ok",
     "timestamp": 1632373657251,
     "user": {
      "displayName": "Khôi Nguyễn Duy Minh",
      "photoUrl": "https://lh3.googleusercontent.com/a-/AOh14Gi2oRzIWF8dpjtWlBbjqajP4dXwJ8IlXjzY2_ws=s64",
      "userId": "05400918452609541741"
     },
     "user_tz": -420
    },
    "id": "kJBwudfzRoHp",
    "outputId": "a7407793-f17b-49da-ed23-f633de5c9b82"
   },
   "outputs": [
    {
     "name": "stdout",
     "output_type": "stream",
     "text": [
      "351\n",
      "(351, 32)\n",
      "32\n"
     ]
    }
   ],
   "source": [
    "data = pd.read_csv('http://archive.ics.uci.edu/ml/machine-learning-databases/ionosphere/ionosphere.data',\n",
    "                  sep = \",\", header = None)\n",
    "# print(data.head())\n",
    "data = pd.DataFrame.to_numpy(data)\n",
    "X, y = data[:,:34].astype(np.float64), data[:,34]\n",
    "le2 = LabelEncoder()\n",
    "y = le2.fit_transform(y)\n",
    "print(len(y))\n",
    "X = np.delete(X,[0,1], axis = 1)\n",
    "print(X.shape)\n",
    "print(np.linalg.matrix_rank(X))"
   ]
  },
  {
   "cell_type": "code",
   "execution_count": 8,
   "metadata": {
    "colab": {
     "base_uri": "https://localhost:8080/"
    },
    "executionInfo": {
     "elapsed": 10359,
     "status": "ok",
     "timestamp": 1632373667604,
     "user": {
      "displayName": "Khôi Nguyễn Duy Minh",
      "photoUrl": "https://lh3.googleusercontent.com/a-/AOh14Gi2oRzIWF8dpjtWlBbjqajP4dXwJ8IlXjzY2_ws=s64",
      "userId": "05400918452609541741"
     },
     "user_tz": -420
    },
    "id": "v351ig3rssOa",
    "outputId": "2be6feca-ae7d-4aa8-cac1-18b855517b2a"
   },
   "outputs": [
    {
     "data": {
      "text/plain": [
       "array([[0.666, 0.013],\n",
       "       [0.627, 0.019],\n",
       "       [0.579, 0.026],\n",
       "       [0.556, 0.03 ],\n",
       "       [0.52 , 0.061]])"
      ]
     },
     "execution_count": 8,
     "metadata": {},
     "output_type": "execute_result"
    }
   ],
   "source": [
    "G = 2\n",
    "resi_err = np.array([compute_err_resi(X, y, G, .2, runs = 10),\n",
    "                    compute_err_resi(X, y, G, .35, runs = 10),\n",
    "                    compute_err_resi(X, y, G, .5, runs = 10),\n",
    "                    compute_err_resi(X, y, G, .65, runs = 10),\n",
    "                    compute_err_resi(X, y, G, .8, runs = 10)])\n",
    "resi_err.round(3)"
   ]
  },
  {
   "cell_type": "markdown",
   "metadata": {
    "id": "VGqInaaIIOOx"
   },
   "source": [
    "# seeds "
   ]
  },
  {
   "cell_type": "code",
   "execution_count": 9,
   "metadata": {
    "colab": {
     "base_uri": "https://localhost:8080/"
    },
    "executionInfo": {
     "elapsed": 667,
     "status": "ok",
     "timestamp": 1632373668247,
     "user": {
      "displayName": "Khôi Nguyễn Duy Minh",
      "photoUrl": "https://lh3.googleusercontent.com/a-/AOh14Gi2oRzIWF8dpjtWlBbjqajP4dXwJ8IlXjzY2_ws=s64",
      "userId": "05400918452609541741"
     },
     "user_tz": -420
    },
    "id": "_klPa7GkW_5V",
    "outputId": "2cf79610-7fe3-4cbf-f531-bf01e14a6b70"
   },
   "outputs": [
    {
     "name": "stdout",
     "output_type": "stream",
     "text": [
      "(210, 7)\n",
      "7\n"
     ]
    }
   ],
   "source": [
    "data = pd.read_table('https://archive.ics.uci.edu/ml/machine-learning-databases/00236/seeds_dataset.txt',\n",
    "                     sep = '\\s+', header = None)\n",
    "data = pd.DataFrame.to_numpy(data)\n",
    "X,y = data[:,:7], data[:,7]-1 # reset the labels to go start from 0  \n",
    "print(X.shape)\n",
    "print(np.linalg.matrix_rank(X))"
   ]
  },
  {
   "cell_type": "code",
   "execution_count": 10,
   "metadata": {
    "colab": {
     "base_uri": "https://localhost:8080/"
    },
    "executionInfo": {
     "elapsed": 987,
     "status": "ok",
     "timestamp": 1632373669227,
     "user": {
      "displayName": "Khôi Nguyễn Duy Minh",
      "photoUrl": "https://lh3.googleusercontent.com/a-/AOh14Gi2oRzIWF8dpjtWlBbjqajP4dXwJ8IlXjzY2_ws=s64",
      "userId": "05400918452609541741"
     },
     "user_tz": -420
    },
    "id": "6LKfen3IJsAH",
    "outputId": "bfc7554c-4b29-4790-938d-2cd8b7078f2f"
   },
   "outputs": [
    {
     "data": {
      "text/plain": [
       "array([[2.207, 0.035],\n",
       "       [2.122, 0.051],\n",
       "       [1.971, 0.054],\n",
       "       [1.736, 0.11 ],\n",
       "       [1.529, 0.118]])"
      ]
     },
     "execution_count": 10,
     "metadata": {},
     "output_type": "execute_result"
    }
   ],
   "source": [
    "G = 3\n",
    "resi_err = np.array([compute_err_resi(X, y, G, .2, runs = 10),\n",
    "                    compute_err_resi(X, y, G, .35, runs = 10),\n",
    "                    compute_err_resi(X, y, G, .5, runs = 10),\n",
    "                    compute_err_resi(X, y, G, .65, runs = 10),\n",
    "                    compute_err_resi(X, y, G, .8, runs = 10)])\n",
    "resi_err.round(3)"
   ]
  },
  {
   "cell_type": "markdown",
   "metadata": {
    "id": "-VB9LJW3IOPk"
   },
   "source": [
    "# wine\n",
    "The data set is also available in sklearn, as noted in the package's website. So, we load it directly from sklearn"
   ]
  },
  {
   "cell_type": "code",
   "execution_count": 11,
   "metadata": {
    "colab": {
     "base_uri": "https://localhost:8080/"
    },
    "executionInfo": {
     "elapsed": 17,
     "status": "ok",
     "timestamp": 1632373669230,
     "user": {
      "displayName": "Khôi Nguyễn Duy Minh",
      "photoUrl": "https://lh3.googleusercontent.com/a-/AOh14Gi2oRzIWF8dpjtWlBbjqajP4dXwJ8IlXjzY2_ws=s64",
      "userId": "05400918452609541741"
     },
     "user_tz": -420
    },
    "id": "zgmq0y4yIOPm",
    "outputId": "e1de3d25-8d28-46f9-e8c4-8b3fc50b94bf"
   },
   "outputs": [
    {
     "name": "stdout",
     "output_type": "stream",
     "text": [
      "(178, 13)\n",
      "13\n"
     ]
    }
   ],
   "source": [
    "wine = datasets.load_wine()\n",
    "X,y = wine.data, wine.target.ravel()\n",
    "print(X.shape)\n",
    "print(np.linalg.matrix_rank(X))\n",
    "# sum(y==0), sum(y==1), sum(y==2)"
   ]
  },
  {
   "cell_type": "code",
   "execution_count": 12,
   "metadata": {
    "colab": {
     "base_uri": "https://localhost:8080/"
    },
    "executionInfo": {
     "elapsed": 2327,
     "status": "ok",
     "timestamp": 1632373671546,
     "user": {
      "displayName": "Khôi Nguyễn Duy Minh",
      "photoUrl": "https://lh3.googleusercontent.com/a-/AOh14Gi2oRzIWF8dpjtWlBbjqajP4dXwJ8IlXjzY2_ws=s64",
      "userId": "05400918452609541741"
     },
     "user_tz": -420
    },
    "id": "0QzPNij2jmyD",
    "outputId": "95dbc02b-0a6b-4420-9cdc-5693b305f6b9"
   },
   "outputs": [
    {
     "data": {
      "text/plain": [
       "array([[0.619, 0.006],\n",
       "       [0.566, 0.018],\n",
       "       [0.499, 0.01 ],\n",
       "       [0.429, 0.014],\n",
       "       [0.38 , 0.011]])"
      ]
     },
     "execution_count": 12,
     "metadata": {},
     "output_type": "execute_result"
    }
   ],
   "source": [
    "G = 3\n",
    "resi_err = np.array([compute_err_resi(X, y, G, .2, runs = 10),\n",
    "                    compute_err_resi(X, y, G, .35, runs = 10),\n",
    "                    compute_err_resi(X, y, G, .5, runs = 10),\n",
    "                    compute_err_resi(X, y, G, .65, runs = 10),\n",
    "                    compute_err_resi(X, y, G, .8, runs = 10)])\n",
    "resi_err.round(3)"
   ]
  },
  {
   "cell_type": "markdown",
   "metadata": {
    "id": "JE_FulEEAamU"
   },
   "source": [
    "# Iris\n",
    "The data set is also available in sklearn, as noted in the package's website. So, we load it directly from sklearn"
   ]
  },
  {
   "cell_type": "code",
   "execution_count": 13,
   "metadata": {
    "colab": {
     "base_uri": "https://localhost:8080/"
    },
    "executionInfo": {
     "elapsed": 1227,
     "status": "ok",
     "timestamp": 1632373672765,
     "user": {
      "displayName": "Khôi Nguyễn Duy Minh",
      "photoUrl": "https://lh3.googleusercontent.com/a-/AOh14Gi2oRzIWF8dpjtWlBbjqajP4dXwJ8IlXjzY2_ws=s64",
      "userId": "05400918452609541741"
     },
     "user_tz": -420
    },
    "id": "VtzYeUdYw4G6",
    "outputId": "c9f34ac7-e4d8-4ab4-d517-2ec450e5a6bf"
   },
   "outputs": [
    {
     "data": {
      "text/plain": [
       "array([[2.67 , 0.086],\n",
       "       [2.644, 0.083],\n",
       "       [2.555, 0.106],\n",
       "       [2.32 , 0.129],\n",
       "       [2.121, 0.182]])"
      ]
     },
     "execution_count": 13,
     "metadata": {},
     "output_type": "execute_result"
    }
   ],
   "source": [
    "iris = datasets.load_iris()\n",
    "X,y = iris.data, iris.target.ravel() \n",
    "G = 3\n",
    "resi_err = np.array([compute_err_resi(X, y, G, .2, runs = 10),\n",
    "                    compute_err_resi(X, y, G, .35, runs = 10),\n",
    "                    compute_err_resi(X, y, G, .5, runs = 10),\n",
    "                    compute_err_resi(X, y, G, .65, runs = 10),\n",
    "                    compute_err_resi(X, y, G, .8, runs = 10)])\n",
    "resi_err.round(3)"
   ]
  },
  {
   "cell_type": "code",
   "execution_count": null,
   "metadata": {},
   "outputs": [],
   "source": []
  }
 ],
 "metadata": {
  "colab": {
   "collapsed_sections": [],
   "name": "RESI-KNNI without equal covariance assumption.ipynb",
   "provenance": [
    {
     "file_id": "1xKp_k9_rmArWqT_UcIFBuWukG_jHnCVY",
     "timestamp": 1613916983415
    },
    {
     "file_id": "1eazQvNk_WLTaG8heDoHQ3AgEg59y9f0v",
     "timestamp": 1608824112061
    },
    {
     "file_id": "126-leKywWg1oVxbfuH1_ORl8UMYHusn_",
     "timestamp": 1591364956450
    },
    {
     "file_id": "1Lb-WwE7STckIojvf1h3ADYX29-gfA6u-",
     "timestamp": 1590379038322
    },
    {
     "file_id": "1CnbOqwmJydQa8uCCpIR6HRVxw0YnveIP",
     "timestamp": 1590113304994
    }
   ],
   "toc_visible": true
  },
  "kernelspec": {
   "display_name": "Python 3",
   "language": "python",
   "name": "python3"
  },
  "language_info": {
   "codemirror_mode": {
    "name": "ipython",
    "version": 3
   },
   "file_extension": ".py",
   "mimetype": "text/x-python",
   "name": "python",
   "nbconvert_exporter": "python",
   "pygments_lexer": "ipython3",
   "version": "3.8.8"
  }
 },
 "nbformat": 4,
 "nbformat_minor": 1
}
